{
 "cells": [
  {
   "cell_type": "markdown",
   "id": "a4929f26-a55d-468c-92e8-67e7b86e06c6",
   "metadata": {},
   "source": [
    "# Problem 1: GMM"
   ]
  },
  {
   "cell_type": "code",
   "execution_count": 4,
   "id": "47e5d9a2-01d4-4260-aa80-369a8b6d6bcf",
   "metadata": {
    "vscode": {
     "languageId": "r"
    }
   },
   "outputs": [],
   "source": [
    "library(gmm)\n",
    "library(tseries)"
   ]
  },
  {
   "cell_type": "markdown",
   "id": "7535c46d-7bdc-4385-990e-de0a5b77a76e",
   "metadata": {},
   "source": [
    "#### (a) How would you identify the lag q? Identify the lag q."
   ]
  },
  {
   "cell_type": "code",
   "execution_count": 5,
   "id": "ab9c789a-2d72-4b0f-bce7-23fa67b268ba",
   "metadata": {
    "vscode": {
     "languageId": "r"
    }
   },
   "outputs": [
    {
     "name": "stdout",
     "output_type": "stream",
     "text": [
      "[1] 3\n"
     ]
    },
    {
     "data": {
      "image/png": "[encoded data removed]",
      "text/plain": [
       "Plot with title \"Series  ts_data\""
      ]
     },
     "metadata": {},
     "output_type": "display_data"
    }
   ],
   "source": [
    "# Load the data\n",
    "data <- read.csv(\"hw_data.csv\")\n",
    "\n",
    "# Create a time series object\n",
    "ts_data <- ts(data$x)\n",
    "\n",
    "# Compute autocorrelation function\n",
    "acf_values <- acf(ts_data, lag.max = 10)\n",
    "\n",
    "# Find the first lag where autocorrelation is not significant\n",
    "lag_q <- which(acf_values$acf < 0.05)[1] - 1\n",
    "print(lag_q)"
   ]
  },
  {
   "cell_type": "markdown",
   "id": "70601f8d-fb56-4c35-936d-b245d94f75eb",
   "metadata": {},
   "source": [
    "We begin with loading the data and converting them to a time series object. Then the autocorrelation function is performed and the resulting lags plotted. We can see on the graph that already fourth lag became insignificant. Assuming that this function considers the first lag to be in time 0, which is technically not a lag, we found out there are 2 lags present in our data. Therefore, we are dealing with AR(2) model."
   ]
  },
  {
   "cell_type": "markdown",
   "id": "47f8d99f-82bd-42a6-9366-ea386d4d4d30",
   "metadata": {},
   "source": [
    "\n",
    "#### (b) Derive the moment conditions function"
   ]
  },
  {
   "cell_type": "code",
   "execution_count": 6,
   "id": "d76c6e2e-5ea7-46aa-86ad-81242b44bfb5",
   "metadata": {
    "vscode": {
     "languageId": "r"
    }
   },
   "outputs": [],
   "source": [
    "ma2_moments = function(parm, data = NULL) {\n",
    "  mu = parm[1]\n",
    "  theta1 = parm[2]\n",
    "  theta2 = parm[3]\n",
    "  sigma2 = parm[4] \n",
    "  \n",
    "  \n",
    "  m1 = mu\n",
    "  m2 = mu^2 + sigma2 * (1 + theta1^2 + theta2^2)\n",
    "  m3 = mu^2 + sigma2 * (theta1 + theta2*theta1)\n",
    "  m4 = mu^2 + sigma2 * theta2   \n",
    "  m5 = mu^2\n",
    "  # moment conditions:\n",
    "  t(t(data) - c(m1, m2, m3, m4, m5))\n",
    "}"
   ]
  },
  {
   "cell_type": "markdown",
   "id": "b9532e84-7025-45cc-bf6f-7cc311a41e49",
   "metadata": {},
   "source": [
    "Since we need to estimate 4 parameters (mu, theta1, theta2, sigma^2) for the AR(2) model and we want to have an over-identified solution using more moment conditions than estimating coeffitients, we need to calculate the first 5 moments ($E[Y_t],E[Y_t^2], E[Y_tY_{t-1}], E[Y_tY_{t-2}], E[Y_tY_{t-3}]$.\n",
    "\n",
    "$Y_t=\\mu+\\epsilon_t+\\theta_1\\epsilon_{t-1}+\\theta_2\\epsilon_{t-2}$\n",
    "\n",
    "\n",
    "Similarly for $Y_{t-1},Y_{t-2},Y_{t-3}$\n",
    "\n",
    "$Y_{t-1}=\\mu+\\epsilon_{t-1}+\\theta_1\\epsilon_{t-2}+\\theta_2\\epsilon_{t-3}$ \n",
    "\n",
    "$Y_{t-2}=\\mu+\\epsilon_{t-2}+\\theta_1\\epsilon_{t-3}+\\theta_2\\epsilon_{t-4}$\n",
    "\n",
    "$Y_{t-3}=\\mu+\\epsilon_{t-3}+\\theta_1\\epsilon_{t-4}+\\theta_2\\epsilon_{t-5}$\n",
    "\n",
    "It should hold that $\\epsilon=\\sigma$\n",
    "\n",
    "From that, we derived following moments.\n",
    "\n",
    "$$\n",
    "\\begin{aligned}\n",
    "E[Y_t]&=\\mu\\\\\n",
    "E[Y_t^2]&=\\mu^2+\\sigma^2(1+\\theta_1^2+\\theta_2^2)\\\\\n",
    "E[Y_tY_{t-1}]&=\\mu^2+\\sigma^2(\\theta_1+\\theta_1 \\theta_2)\\\\\n",
    "E[Y_tY_{t-2}]&=\\mu^2+\\sigma^2\\theta_2\\\\\n",
    "E[Y_tY_{t-3}]&=\\mu^2\\\\\n",
    "\\end{aligned}\n",
    "$$"
   ]
  },
  {
   "cell_type": "markdown",
   "id": "ae86a3e4-27c2-49c0-9e50-aee5750bd782",
   "metadata": {},
   "source": [
    "#### (c) Estimate the model using ’gmm’ with an identity weighting matrix. Provide the output and interpret the coefficient significance and the J-test statistic."
   ]
  },
  {
   "cell_type": "code",
   "execution_count": 7,
   "id": "23927abd-9608-45fb-8a15-426b582c5bf7",
   "metadata": {
    "vscode": {
     "languageId": "r"
    }
   },
   "outputs": [],
   "source": [
    "N = length(ts_data)\n",
    "\n",
    "# Data matrix\n",
    "ma2_data = cbind(ts_data[4:N],\n",
    "                 ts_data[4:N]^2,\n",
    "                 ts_data[4:N]*ts_data[3:(N-1)],\n",
    "                 ts_data[4:N]*ts_data[2:(N-2)],\n",
    "                 ts_data[4:N]*ts_data[1:(N-3)])\n",
    "\n",
    "# Moments\n",
    "ma2_mom = ma2_moments(c(0, 0.5, 0.5, 1), data = ma2_data)\n",
    "\n",
    "# Start values\n",
    "start_vals = c(0, 0.5, 0.5, 1)\n",
    "names(start_vals) = c(\"mu\", \"theta1\", \"theta2\", \"sigma2\")\n"
   ]
  },
  {
   "cell_type": "markdown",
   "id": "921b4a91-49d8-476e-ac19-56698fb67725",
   "metadata": {},
   "source": [
    "Furthermore, the data modification according to the defined formula needs to be undertaken for moment vector calculation in the function above. We also calculated the moments and set the initial values for optimization with respective labels in this part of code."
   ]
  },
  {
   "cell_type": "code",
   "execution_count": 13,
   "id": "105db10f-1280-4c06-a5fd-2b68d4b11457",
   "metadata": {
    "vscode": {
     "languageId": "r"
    }
   },
   "outputs": [
    {
     "data": {
      "text/plain": [
       "\n",
       "Call:\n",
       "gmm(g = ma2_moments, x = ma2_data, t0 = start_vals, wmatrix = \"ident\", \n",
       "    vcov = \"HAC\", kernel = \"Truncated\", optfct = \"nlminb\")\n",
       "\n",
       "\n",
       "Method:  One step GMM with W = identity \n",
       "\n",
       "Kernel:  Truncated\n",
       "\n",
       "Coefficients:\n",
       "         Estimate     Std. Error   t value      Pr(>|t|)   \n",
       "mu        2.4064e-02   7.0152e-02   3.4302e-01   7.3158e-01\n",
       "theta1    5.5850e-01   3.4779e-02   1.6059e+01   4.9762e-58\n",
       "theta2    3.0271e-01   6.4055e-02   4.7257e+00   2.2927e-06\n",
       "sigma^2   1.0196e+00   4.6682e-02   2.1842e+01  9.2142e-106\n",
       "\n",
       "J-Test: degrees of freedom is 1 \n",
       "                J-test    P-value \n",
       "Test E(g)=0:    6.278246  0.012223\n",
       "\n",
       "#############\n",
       "Information related to the numerical optimization\n",
       "Convergence code =  0 \n",
       "Function eval. =  19 \n",
       "Gradian eval. =  68 \n",
       "Message:  relative convergence (4) "
      ]
     },
     "metadata": {},
     "output_type": "display_data"
    },
    {
     "name": "stdout",
     "output_type": "stream",
     "text": [
      "\n",
      " ##  J-Test: degrees of freedom is 1  ## \n",
      "\n",
      "                J-test    P-value \n",
      "Test E(g)=0:    6.278246  0.012223\n",
      "\n"
     ]
    }
   ],
   "source": [
    "ma2_gmm_identity = gmm(ma2_moments, ma2_data, t0=start_vals, wmatrix=\"ident\", \n",
    "            optfct = \"nlminb\", vcov = \"HAC\", kernel = \"Truncated\")\n",
    "\n",
    "summary(ma2_gmm_identity)\n",
    "print(specTest(ma2_gmm_identity))"
   ]
  },
  {
   "cell_type": "markdown",
   "id": "4ed63a23-20ab-4363-bf7f-0da2b4cbcd93",
   "metadata": {},
   "source": [
    "All coefficients except mu(mean) are significant(at 0.1% level). We can observe that the standard error compared to the mu estimate seems too high (mu = 0.02, std. error = 0.07), std. error is 3.5 times bigger! The rest seems quite fine. On the other hand, the J-test shows that the model is misspecified (we can reject H0 at 5% level, that the value of the objective function is different from zero). Although it does not reveal the cause of the misspecification, it is most probable that it is due to choosing the wrong matrix e.g., the identity matrix. For cases with more moment conditions than parameters (over-identification), using a two-step method with an optimal matrix is appropriate instead of the one-step method with an identity matrix. "
   ]
  },
  {
   "cell_type": "markdown",
   "id": "cc640e8d-d6eb-4d4b-8772-056ddd0ced7a",
   "metadata": {},
   "source": [
    "#### (d) Estimate the model using ’gmm’ with an optimal weighting matrix. Provide the output and interpret the coefficient significance and the J-test statistic."
   ]
  },
  {
   "cell_type": "code",
   "execution_count": 14,
   "id": "e5ee505c-29dd-4b31-90d2-43694c797b89",
   "metadata": {
    "vscode": {
     "languageId": "r"
    }
   },
   "outputs": [
    {
     "data": {
      "text/plain": [
       "\n",
       "Call:\n",
       "gmm(g = ma2_moments, x = ma2_data, t0 = start_vals, wmatrix = \"optimal\", \n",
       "    vcov = \"HAC\", kernel = \"Truncated\", optfct = \"nlminb\")\n",
       "\n",
       "\n",
       "Method:  twoStep \n",
       "\n",
       "Kernel:  Truncated(with bw =  1.2454 )\n",
       "\n",
       "Coefficients:\n",
       "         Estimate     Std. Error   t value      Pr(>|t|)   \n",
       "mu        2.4968e-02   7.0143e-02   3.5596e-01   7.2187e-01\n",
       "theta1    5.7533e-01   3.2926e-02   1.7474e+01   2.2694e-68\n",
       "theta2    3.7616e-01   3.9341e-02   9.5616e+00   1.1593e-21\n",
       "sigma^2   9.9506e-01   4.5840e-02   2.1707e+01  1.7585e-104\n",
       "\n",
       "J-Test: degrees of freedom is 1 \n",
       "                J-test   P-value\n",
       "Test E(g)=0:    1.72171  0.18947\n",
       "\n",
       "Initial values of the coefficients\n",
       "        mu     theta1     theta2    sigma^2 \n",
       "0.02406389 0.55849963 0.30270706 1.01963595 \n",
       "\n",
       "#############\n",
       "Information related to the numerical optimization\n",
       "Convergence code =  0 \n",
       "Function eval. =  13 \n",
       "Gradian eval. =  56 \n",
       "Message:  relative convergence (4) "
      ]
     },
     "metadata": {},
     "output_type": "display_data"
    },
    {
     "name": "stdout",
     "output_type": "stream",
     "text": [
      "\n",
      " ##  J-Test: degrees of freedom is 1  ## \n",
      "\n",
      "                J-test   P-value\n",
      "Test E(g)=0:    1.72171  0.18947\n",
      "\n"
     ]
    }
   ],
   "source": [
    "ma2_gmm_optimal = gmm(ma2_moments, ma2_data, t0=start_vals, wmatrix=\"optimal\", \n",
    "            optfct = \"nlminb\", vcov = \"HAC\", kernel = \"Truncated\")\n",
    "\n",
    "summary(ma2_gmm_optimal)\n",
    "print(specTest(ma2_gmm_optimal))"
   ]
  },
  {
   "cell_type": "markdown",
   "id": "574397f7-6acd-4db3-84c5-7058a64fe2d9",
   "metadata": {},
   "source": [
    "Surprisingly, the results of coefficients, std. errors and p-values are quite similar to the previous model specification. The only significant difference is that the J-test is far smaller and does not suggest any misspecification of the model (cannot reject H0 that the model is misspecified). This is likely due to correctly choosing the two-stage method with the optimal matrix, as mentioned in 1.C. "
   ]
  },
  {
   "cell_type": "markdown",
   "id": "d231f106-03ed-4688-be53-6f52f3ba0fb7",
   "metadata": {},
   "source": [
    "#### (e) Compare the results from c) and d)."
   ]
  },
  {
   "cell_type": "code",
   "execution_count": 15,
   "id": "5440e233-3e6a-4afa-8c3b-11424ae1ffa4",
   "metadata": {
    "vscode": {
     "languageId": "r"
    }
   },
   "outputs": [
    {
     "name": "stdout",
     "output_type": "stream",
     "text": [
      "Results from (c): \n",
      "Method\n",
      " One step GMM with W = identity \n",
      "\n",
      "Objective function value:  0.00646133 \n",
      "\n",
      "      mu    theta1    theta2   sigma^2  \n",
      "0.024064  0.558500  0.302707  1.019636  \n",
      "\n",
      "Convergence code =  0 \n",
      "\n",
      "Results from (d): \n",
      "Method\n",
      " twoStep \n",
      "\n",
      "Objective function value:  0.001726892 \n",
      "\n",
      "      mu    theta1    theta2   sigma^2  \n",
      "0.024968  0.575335  0.376164  0.995062  \n",
      "\n",
      "Convergence code =  0 \n"
     ]
    }
   ],
   "source": [
    "# Compare results\n",
    "cat(\"Results from (c):\", \"\\n\")\n",
    "print(ma2_gmm_identity)\n",
    "\n",
    "cat(\"\\nResults from (d):\", \"\\n\")\n",
    "print(ma2_gmm_optimal)\n"
   ]
  },
  {
   "cell_type": "markdown",
   "id": "8409dc77-2d15-46b9-9f6a-f6af263f79f4",
   "metadata": {},
   "source": [
    "In summary, both model specifications provided similar results, but the two-step method with optimal matrix seems specified correctly, while the one-step method does not(according to J-statistics). Although this is expected (explained in section  1.C), the fact that the results are similar is quite surprising. "
   ]
  },
  {
   "cell_type": "markdown",
   "id": "aa99aaa4",
   "metadata": {},
   "source": [
    "# Problem 2: Delta method"
   ]
  },
  {
   "cell_type": "markdown",
   "id": "c43b5a18",
   "metadata": {},
   "source": [
    "Creating variables $X_1$ and $X_2$:\n",
    "\n",
    "\n",
    "$X_1 = 0.2V_1 + 0.7V_2 + 0.3V_3$\n",
    "\n",
    "$X_2 = 4V_2 − 3V_3$\n",
    "\n",
    "$V_1 ∼ N(0,1), V_2 ∼ χ^2(3), V_3 ∼ U[1,2]$\n",
    "\n",
    "The linear model is defined as:\n",
    "\n",
    "$Y =β_0 +β_1X_1 +β_2X_2 +ε$\n",
    "\n",
    "Generate 500 observations. The true values of betas are $β_0 = 2, β_1 = 4, β_2 = 3$, and\n",
    "ε ∼ N (0, 1). Let us assume, that we are interested in quantity $Φ$: \n",
    "\n",
    "$Φ=ln(β_0 +β_1^2)−\\beta_1^{1/2}$\n",
    "\n"
   ]
  },
  {
   "cell_type": "code",
   "execution_count": null,
   "id": "47c58f07",
   "metadata": {},
   "outputs": [],
   "source": [
    "set.seed(123)\n",
    "n=500\n",
    "v1 = rnorm(n, mean = 0, sd = 1)\n",
    "v2 = rchisq(n,3)\n",
    "v3  = runif(n, 1, 2)\n",
    "epsilon = rnorm(n, mean = 0, sd = 1)\n",
    "\n",
    "x1 = 0.2 * v1 + 0.7 * v2 + 0.3 * v3\n",
    "x2 = 4 * v2 - 3 * v3 \n",
    "b0 = 2\n",
    "b1 = 4\n",
    "b2 = 3\n",
    "\n",
    "y = 2 + 4*x1 + 3*x2 + epsilon\n",
    "frame <- data.frame(y, x1, x2)\n",
    "\n",
    "m1 <- lm(y~x1+x2)\n",
    "summary(m1)"
   ]
  },
  {
   "cell_type": "markdown",
   "id": "f00b0a92",
   "metadata": {},
   "source": [
    "#### calculation true value of $Φ$:"
   ]
  },
  {
   "cell_type": "code",
   "execution_count": null,
   "id": "45084f6c",
   "metadata": {},
   "outputs": [],
   "source": [
    "# Φ= log(b0+b1^2)-(b1^(1/2))\n",
    "\n",
    "phi_true = log(b0+b1^2)-(b1^(1/2))\n",
    "sprintf(\"true value of phi equals: %.7f\", phi_true)"
   ]
  },
  {
   "cell_type": "markdown",
   "id": "51d620e4",
   "metadata": {},
   "source": [
    "#### estimation of $Φ$:"
   ]
  },
  {
   "cell_type": "code",
   "execution_count": null,
   "id": "44aaa666",
   "metadata": {},
   "outputs": [],
   "source": [
    "bet0=coef(m1)[1]\n",
    "bet1=coef(m1)[2]\n",
    "phi_m1=log(bet0+bet1^2) - bet1^(1/2)\n",
    "sprintf(\"phi equals: %.7f\", phi_m1)"
   ]
  },
  {
   "cell_type": "markdown",
   "id": "bf2f8409",
   "metadata": {},
   "source": [
    "#### variance estimation of $Φ$:\n",
    "###### a) delta method by hand"
   ]
  },
  {
   "cell_type": "code",
   "execution_count": null,
   "id": "2239d4fa",
   "metadata": {},
   "outputs": [],
   "source": [
    "#Derivation of phi with respect to beta0: beta0 = 1/(beta0 + beta1^2)\n",
    "#Derivation of phi with respect to beta1: beta1 = 2beta1/(beta0 + beta1^2) - (1/2)*beta1^(-1/2)\n",
    "\n",
    "par.deriv0=1/(bet0+bet1^2)\n",
    "par.deriv1=((2*bet1)/(bet0+bet1^2))- (1/2)*bet1^(-1/2)\n",
    "grad=c(par.deriv0,par.deriv1)\n",
    "\n",
    "# using delta method, variance of phi=t(grad)*vcov(x)*grad\n",
    "v_x=vcov(m1)[-3,-3] #we do not need full covariance matrix only beta0 and beta1 –> drop beta2\n",
    "v_x\n",
    "\n",
    "vG= t(grad)%*% v_x %*% grad\n",
    "\n",
    "sprintf(\"Approximate variance for phi calculated using OLS output: %.7f\",vG) \n",
    "\n"
   ]
  },
  {
   "cell_type": "markdown",
   "id": "7b221ea9",
   "metadata": {},
   "source": [
    "###### b) delta method using \"deltamethod\" function"
   ]
  },
  {
   "cell_type": "code",
   "execution_count": null,
   "id": "efe55174",
   "metadata": {},
   "outputs": [],
   "source": [
    "library(msm)\n",
    "\n",
    "a <- vcov(m1)[-3, -3]\n",
    "b <- coef(m1)[1:2] #coef. of intercept and x1\n",
    "\n",
    "se.z.dm <- deltamethod(~(log(x1 + x2^2))- (x2^(1/2)), b, a)\n",
    "sprintf(\"Variance using deltamethod function: %.7f\",se.z.dm^2)"
   ]
  },
  {
   "cell_type": "markdown",
   "id": "34f351e6",
   "metadata": {},
   "source": [
    "###### c) bootstrap (with 1000, 10000 replications)"
   ]
  },
  {
   "cell_type": "code",
   "execution_count": null,
   "id": "cda725a5",
   "metadata": {},
   "outputs": [],
   "source": [
    "library(boot)\n",
    "#defining gama function\n",
    "\n",
    "se.gama=function(data, idx, formula){\n",
    "  d     = data[idx,] # allow boot function to sample from \"data\"\n",
    "  m2    = lm(formula, data = d)\n",
    "  gama  = log(coef(m2)[1] + coef(m2)[2]^2) - coef(m2)[2]^(1/2)\n",
    "  gama\n",
    "}\n",
    "\n",
    "#boostrap with 1000\n",
    "\n",
    "sd.gama.boot1 = boot(data = frame, statistic = se.gama, R = 1000, formula = y ~ x1 + x2)\n",
    "sprintf(\"Variance using bootsrap with 1000 replications: %.7f\",sd(sd.gama.boot1$t)^2)\n",
    "\n",
    "options(repr.plot.width = 8, repr.plot.height = 4)\n",
    "plot(sd.gama.boot)"
   ]
  },
  {
   "cell_type": "code",
   "execution_count": null,
   "id": "011563ca",
   "metadata": {},
   "outputs": [],
   "source": [
    "#bootstrap with 10000\n",
    "sd.gama.boot2 = boot(data = frame, statistic = se.gama, R = 10000, formula = y ~ x1 + x2)\n",
    "sd.gama.boot\n",
    "\n",
    "sprintf(\"Variance using bootsrap with 10000 replications: %.7f\",sd(sd.gama.boot2$t)^2)\n",
    "\n",
    "options(repr.plot.width = 8, repr.plot.height = 4)\n",
    "plot(sd.gama.boot)\n"
   ]
  },
  {
   "cell_type": "markdown",
   "id": "f4d223a2",
   "metadata": {},
   "source": [
    "###### d) result comparison"
   ]
  },
  {
   "cell_type": "code",
   "execution_count": null,
   "id": "a59ef796",
   "metadata": {},
   "outputs": [],
   "source": [
    "#varince comparison \n",
    "sprintf(\"Approximate variance for phi calculated using OLS output: %.7f\",vG) \n",
    "sprintf(\"Approximate variance using deltamethod function: %.7f\",se.z.dm^2)\n",
    "sprintf(\"Approximate variance using bootsrap with 1000 replications: %.7f\",sd(sd.gama.boot1$t)^2)\n",
    "sprintf(\"Approximate variance using bootsrap with 10000 replications: %.7f\",sd(sd.gama.boot2$t)^2)"
   ]
  },
  {
   "cell_type": "markdown",
   "id": "8ac06c2e",
   "metadata": {},
   "source": [
    "We can see that both deltamethod varince estimates of phi (by hand and using delta function) is same, which is not surpring and may serve as checking whether our calculation was correct. The resulted variance is 0.0003218, which is fairly close to zero. Further bootstrap with 1000 replicants estimated variance to be 0.0003364 which is higher than by delta method, while bootstrap with 10000 replicants estimated variance to be lower, thus closer to 0. This is in line with theory, where the more observations we have the closer we are to the true value. And so if boostrap would have more replicants it will get closer to the delthamethod results"
   ]
  },
  {
   "cell_type": "code",
   "execution_count": null,
   "id": "cb021282",
   "metadata": {},
   "outputs": [],
   "source": [
    "#phi comparison:\n",
    "sprintf(\"true value of phi equals: %.7f\", phi_true)\n",
    "sprintf(\"OLS estimation of phi equals: %.7f\", phi_m1)\n",
    "sprintf(\"Phi estimation using bootstrap with 1000 replicants: %.7f\",mean(sd.gama.boot1$t))\n",
    "sprintf(\"Phi estimation using bootstrap with 10000 replicants: %.7f\",mean(sd.gama.boot2$t))\n"
   ]
  },
  {
   "cell_type": "markdown",
   "id": "21c8f8fd",
   "metadata": {},
   "source": [
    "Again OLS deltamethod was closest to the true value, while bootstrap with 10000 replicants was slightly better than bootstrap with 1000 replicants due to higher number of replicants. "
   ]
  },
  {
   "cell_type": "markdown",
   "id": "87514153-e1ce-417d-896d-5946361d8c69",
   "metadata": {},
   "source": [
    "# Problem 3: Bootstrap"
   ]
  },
  {
   "cell_type": "code",
   "execution_count": 6,
   "id": "a08f03e5-9851-431e-a990-d6e6a4d5dde3",
   "metadata": {
    "vscode": {
     "languageId": "r"
    }
   },
   "outputs": [],
   "source": [
    "set.seed(123)\n",
    "library(ggplot2)\n",
    "library(boot)"
   ]
  },
  {
   "cell_type": "markdown",
   "id": "ce9f4f65-8f59-4ff8-bdd8-4b66e04bdc60",
   "metadata": {},
   "source": [
    "#### (a) Generate 200 observations from the exponential distribution for λ = 2."
   ]
  },
  {
   "cell_type": "code",
   "execution_count": 7,
   "id": "7e012e53-d733-4e8c-add5-d2c23f5ef24f",
   "metadata": {
    "vscode": {
     "languageId": "r"
    }
   },
   "outputs": [
    {
     "data": {
      "text/html": [
       "<ol class=list-inline>\n",
       "\t<li>0.421728630529201</li>\n",
       "\t<li>0.288305135443807</li>\n",
       "\t<li>0.664527433903372</li>\n",
       "\t<li>0.015788679554156</li>\n",
       "\t<li>0.0281054880470037</li>\n",
       "\t<li>0.158250608188855</li>\n",
       "</ol>\n"
      ],
      "text/latex": [
       "\\begin{enumerate*}\n",
       "\\item 0.421728630529201\n",
       "\\item 0.288305135443807\n",
       "\\item 0.664527433903372\n",
       "\\item 0.015788679554156\n",
       "\\item 0.0281054880470037\n",
       "\\item 0.158250608188855\n",
       "\\end{enumerate*}\n"
      ],
      "text/markdown": [
       "1. 0.421728630529201\n",
       "2. 0.288305135443807\n",
       "3. 0.664527433903372\n",
       "4. 0.015788679554156\n",
       "5. 0.0281054880470037\n",
       "6. 0.158250608188855\n",
       "\n",
       "\n"
      ],
      "text/plain": [
       "[1] 0.42172863 0.28830514 0.66452743 0.01578868 0.02810549 0.15825061"
      ]
     },
     "metadata": {},
     "output_type": "display_data"
    }
   ],
   "source": [
    "lambda <- 2\n",
    "data <- rexp(200, rate = lambda)\n",
    "head(data)"
   ]
  },
  {
   "cell_type": "markdown",
   "id": "21db879a-2203-4b75-980e-3c21d963ff9d",
   "metadata": {},
   "source": [
    "We have simply generated 200 data points sampled from the exponential distribution. Theoretically, this distribution is supposed to have the real mean equal to $1/\\lambda = 1/2$"
   ]
  },
  {
   "cell_type": "markdown",
   "id": "4f95cb17-0774-41cd-9454-69ae78045794",
   "metadata": {},
   "source": [
    "#### (b) Check the sample mean and variance and compare them to the theoretical values."
   ]
  },
  {
   "cell_type": "code",
   "execution_count": 8,
   "id": "93e43f43-a702-4be0-9dcf-277f018d7d07",
   "metadata": {
    "vscode": {
     "languageId": "r"
    }
   },
   "outputs": [
    {
     "name": "stdout",
     "output_type": "stream",
     "text": [
      "Sample Mean: 0.5036166 \n",
      "Theoretical Mean: 0.5 \n",
      "\n",
      "Sample Variance: 0.2335522 \n",
      "Theoretical Variance: 0.25 \n",
      "\n"
     ]
    }
   ],
   "source": [
    "# Sample mean & variance\n",
    "sample_mean <- mean(data)\n",
    "sample_var <- var(data)\n",
    "\n",
    "# Theoretical mean and variance\n",
    "theoretical_mean <- 1 / lambda\n",
    "theoretical_var <- 1 / (lambda^2)\n",
    "\n",
    "# Compare\n",
    "cat(\"Sample Mean:\", sample_mean, \"\\nTheoretical Mean:\", theoretical_mean, \"\\n\\n\")\n",
    "cat(\"Sample Variance:\", sample_var, \"\\nTheoretical Variance:\", theoretical_var, \"\\n\\n\")"
   ]
  },
  {
   "cell_type": "markdown",
   "id": "885c470b-cd04-4d43-a661-29aebbefc7c1",
   "metadata": {},
   "source": [
    "Sample and theoretical mean and variance were compared in this part. Using the sample moments seems to be a good way for estimation, however, uisng only one sample can result in inaccurate estimates - it is thus important to replicate the sample mean estimation many times, e.g., using bootstrapping algorithm. "
   ]
  },
  {
   "cell_type": "markdown",
   "id": "2eaf6d45-4655-41af-b7df-cff6178dbafb",
   "metadata": {},
   "source": [
    "#### (c) Plot the histogram of generated data, kernel density approximation, theoretical density of exponential distribution and exponential Q-Q plot. Discuss."
   ]
  },
  {
   "cell_type": "code",
   "execution_count": 9,
   "id": "a3e2bd98-09fd-4859-a632-0d65717b6d92",
   "metadata": {
    "vscode": {
     "languageId": "r"
    }
   },
   "outputs": [
    {
     "data": {
      "image/png": "[encoded data removed]",
      "text/plain": [
       "Plot with title \"Normal Q-Q Plot\""
      ]
     },
     "metadata": {},
     "output_type": "display_data"
    }
   ],
   "source": [
    "options(repr.plot.width = 12, repr.plot.height = 6)\n",
    "par(mfcol = c(1,2)) # create a subplot 1x2\n",
    "\n",
    "# Histogram\n",
    "hist(data, prob = TRUE, breaks = 50, main = \"Histogram\", xlim = c(0,2.5))\n",
    "lines(density(data, kernel = \"gaussian\"), col = \"red\", lwd = 3) # kernel density approximation\n",
    "curve(dexp(x, rate=lambda), col = \"blue\", lwd = 1, add = TRUE) # theoretical standard normal density\n",
    "\n",
    "# Q-Q Plot\n",
    "qqnorm(data) \n",
    "qqline(data, col = \"blue\", lwd = 2, datax = FALSE)\n"
   ]
  },
  {
   "cell_type": "markdown",
   "id": "a90e0972-4a57-4915-9819-42039cfcc8a3",
   "metadata": {},
   "source": [
    "Firstly, a histogram should represent the distribution of our data as frequencies of different ranges of values in our sample. Ideally, if we sampled a data exactly imitating the blue theoretical curve, we could find the population mean estimate simply as a sample mean. Since this is obviously not our case as the red curve suggests, we need to sample many times to get closer to the theoretical distribution.\n",
    "\n",
    "Secondly, the QQ plot helps us assess whether our data set follows a theoretical exponential distribution representing as a blue curve. Since we can observe some diviation, we cannot estimate the exact population statistics using only one sample. \n",
    "\n",
    "The main idea of both of these graphs is that it is not enough to use only one sample with 200 observations for estimation of true population statistics => we need to extend our sample using, e.g., bootstrapping."
   ]
  },
  {
   "cell_type": "markdown",
   "id": "f2a526a1-85f6-40e2-a99e-8a4b899ebbdf",
   "metadata": {},
   "source": [
    "#### (d) Use brute force bootstrapping to obtain the Bootstrap mean, standard errors and bias-reduced estimate of the mean. Use 100,000 bootstrap replications."
   ]
  },
  {
   "cell_type": "code",
   "execution_count": 10,
   "id": "b96d6afb-4520-4080-9248-e8e7596b054b",
   "metadata": {
    "vscode": {
     "languageId": "r"
    }
   },
   "outputs": [
    {
     "data": {
      "text/html": [
       "'Bootstrap mean: 0.503570'"
      ],
      "text/latex": [
       "'Bootstrap mean: 0.503570'"
      ],
      "text/markdown": [
       "'Bootstrap mean: 0.503570'"
      ],
      "text/plain": [
       "[1] \"Bootstrap mean: 0.503570\""
      ]
     },
     "metadata": {},
     "output_type": "display_data"
    },
    {
     "data": {
      "text/html": [
       "'Bootstrap s.e. for the mean: 0.033993'"
      ],
      "text/latex": [
       "'Bootstrap s.e. for the mean: 0.033993'"
      ],
      "text/markdown": [
       "'Bootstrap s.e. for the mean: 0.033993'"
      ],
      "text/plain": [
       "[1] \"Bootstrap s.e. for the mean: 0.033993\""
      ]
     },
     "metadata": {},
     "output_type": "display_data"
    },
    {
     "data": {
      "text/html": [
       "'Bias reduced estimate of mean: 0.503664'"
      ],
      "text/latex": [
       "'Bias reduced estimate of mean: 0.503664'"
      ],
      "text/markdown": [
       "'Bias reduced estimate of mean: 0.503664'"
      ],
      "text/plain": [
       "[1] \"Bias reduced estimate of mean: 0.503664\""
      ]
     },
     "metadata": {},
     "output_type": "display_data"
    }
   ],
   "source": [
    "boot <- 100000\n",
    "boot_mean <- rep(0, boot)\n",
    "\n",
    "for (i in 1:boot) {\n",
    "    boot_data <- sample(data, size=length(data), replace=TRUE)\n",
    "    boot_mean[i] <- mean(boot_data)\n",
    "} \n",
    " \n",
    "# Bias\n",
    "sprintf(\"Bootstrap mean: %.6f\", mean(boot_mean))\n",
    "sprintf(\"Bootstrap s.e. for the mean: %.6f\", sd(boot_mean))\n",
    "sprintf(\"Bias reduced estimate of mean: %.6f\",2 * sample_mean - mean(boot_mean))"
   ]
  },
  {
   "cell_type": "markdown",
   "id": "9c8fd629-a6fa-4481-87f7-4f2223f11834",
   "metadata": {},
   "source": [
    "We applied the bootstrap algorith for 100000 repetitions manually in this section and got an estimate for a population mean 0.5036, which is already quite close. Small standard errors also suggest relative robustness of our result. The interesting observation is that the bootstrapping estimation and an estimation using only one sample are almost the same, suggesting we randomly sampled data relatively close to population values. The main value added of our estimation are probably the standard erros instead of having only point estivation as before that tells a lot about possible distinction on a true value. "
   ]
  },
  {
   "cell_type": "markdown",
   "id": "bfebd85e-8a79-4278-9998-718eec3939c0",
   "metadata": {},
   "source": [
    "#### (e) Now, use the ’boot’ function with 100,000 bootstrap replications."
   ]
  },
  {
   "cell_type": "code",
   "execution_count": 8,
   "id": "26422933-56cc-45c5-8ec8-cb5d3411918c",
   "metadata": {
    "vscode": {
     "languageId": "r"
    }
   },
   "outputs": [
    {
     "name": "stdout",
     "output_type": "stream",
     "text": [
      "\n",
      "ORDINARY NONPARAMETRIC BOOTSTRAP\n",
      "\n",
      "\n",
      "Call:\n",
      "boot(data = data, statistic = boot_statistic, R = boot)\n",
      "\n",
      "\n",
      "Bootstrap Statistics :\n",
      "     original       bias    std. error\n",
      "t1* 0.5036166 0.0001448822  0.03403546\n"
     ]
    }
   ],
   "source": [
    "# Define function calculating mean of a sample subset by indexes idx\n",
    "boot_statistic <- function(data, idx) {\n",
    "    mean = mean(data[idx])\n",
    "    return(mean)\n",
    "}\n",
    "\n",
    "\n",
    "bootstrap_result <- boot(data, statistic=boot_statistic, R = boot)\n",
    "print(bootstrap_result)"
   ]
  },
  {
   "cell_type": "markdown",
   "id": "ef6f4f99-f053-4a53-b83a-9146c1329d59",
   "metadata": {},
   "source": [
    "In this sections, we only replicated the bootstrap algorith from the previous part using the boot function. As the results are almost identical, it confirms the technical correctness of our results. "
   ]
  },
  {
   "cell_type": "markdown",
   "id": "fc406b5d-fe0d-46e4-b839-077b0690cbb5",
   "metadata": {},
   "source": [
    "#### (f) Obtain the confidence intervals, use different types and compare the results. Which type is appropriate to use in this case?"
   ]
  },
  {
   "cell_type": "code",
   "execution_count": 10,
   "id": "2aa1f6f0-2220-44e1-8974-cf15aad7f59b",
   "metadata": {
    "vscode": {
     "languageId": "r"
    }
   },
   "outputs": [
    {
     "data": {
      "text/plain": [
       "BOOTSTRAP CONFIDENCE INTERVAL CALCULATIONS\n",
       "Based on 100000 bootstrap replicates\n",
       "\n",
       "CALL : \n",
       "boot.ci(boot.out = bootstrap_result, conf = 0.95, type = c(\"norm\", \n",
       "    \"basic\", \"perc\", \"bca\"))\n",
       "\n",
       "Intervals : \n",
       "Level      Normal              Basic         \n",
       "95%   ( 0.4368,  0.5702 )   ( 0.4346,  0.5677 )  \n",
       "\n",
       "Level     Percentile            BCa          \n",
       "95%   ( 0.4395,  0.5727 )   ( 0.4440,  0.5789 )  \n",
       "Calculations and Intervals on Original Scale"
      ]
     },
     "metadata": {},
     "output_type": "display_data"
    }
   ],
   "source": [
    "boot.ci(bootstrap_result, conf=0.95, type=c(\"norm\", \"basic\", \"perc\", \"bca\"))\n"
   ]
  },
  {
   "cell_type": "markdown",
   "id": "3e71486b-18b1-4b10-bfcc-4fe73894e24c",
   "metadata": {},
   "source": [
    "We suggest to use the BCa confidence intervals since it indicates greater precision and less uncertainty in our results. The normal type assumes normal distribution data which we clearly do not have, basic type performs better on not-skewed distributions. On the other hand, percentile type is more precise and robust for skewed distributions as the exponential one is. However, we consider type BCA being the best option since it incorporates bias correction that we found above and acceleration being also suitable for skewed distributions.  "
   ]
  },
  {
   "cell_type": "markdown",
   "id": "be8da754-b6e3-4b31-b086-882154f35a40",
   "metadata": {},
   "source": [
    "#### (g) Plot the bootstrapped mean. Discuss."
   ]
  },
  {
   "cell_type": "code",
   "execution_count": 11,
   "id": "6b1a1ccb-30ea-4cf0-acd0-bd2262e54f67",
   "metadata": {
    "vscode": {
     "languageId": "r"
    }
   },
   "outputs": [
    {
     "data": {
      "image/png": "[encoded data removed]",
      "text/plain": [
       "Plot with title \"Histogram of t\""
      ]
     },
     "metadata": {},
     "output_type": "display_data"
    }
   ],
   "source": [
    "plot(bootstrap_result)"
   ]
  },
  {
   "cell_type": "markdown",
   "id": "2f766bca-791f-42ff-b12e-827b6c77efb5",
   "metadata": {},
   "source": [
    "The histogram reveals the idea behind whole bootstrap algorith. Applying the law of large numbers, the higher number of repetitions we use for bootstrapping, the closer we get to the true population mean and the more robust are estimate will be. Moreover, the line in our second graph represents a population mean suggesting that more of our sample means were relatively close. In conclution, the bootstrap computation was not computionally demanding so that we could further extend number of data points, number of repetitions or sampling smaller samples for higher accuracy of our results."
   ]
  },
  {
   "cell_type": "markdown",
   "id": "8424049c-7e0c-4bd9-bc21-6c687d611db8",
   "metadata": {},
   "source": [
    "# Problem 4: Endogeneity"
   ]
  },
  {
   "cell_type": "markdown",
   "id": "8614d935-0d2b-4111-92ee-dd93404fb501",
   "metadata": {},
   "source": [
    "#### Data generating process"
   ]
  },
  {
   "cell_type": "code",
   "execution_count": 1,
   "id": "c687b774-4a32-40c2-8d56-7758e039c479",
   "metadata": {
    "tags": []
   },
   "outputs": [
    {
     "name": "stderr",
     "output_type": "stream",
     "text": [
      "Warning message:\n",
      "\"package 'gmm' was built under R version 3.6.3\"Loading required package: sandwich\n",
      "Loading required package: Matrix\n",
      "Loading required package: car\n",
      "Loading required package: carData\n",
      "Loading required package: lmtest\n",
      "Loading required package: zoo\n",
      "\n",
      "Attaching package: 'zoo'\n",
      "\n",
      "The following objects are masked from 'package:base':\n",
      "\n",
      "    as.Date, as.Date.numeric\n",
      "\n",
      "\n",
      "Please cite the 'systemfit' package as:\n",
      "Arne Henningsen and Jeff D. Hamann (2007). systemfit: A Package for Estimating Systems of Simultaneous Equations in R. Journal of Statistical Software 23(4), 1-40. http://www.jstatsoft.org/v23/i04/.\n",
      "\n",
      "If you have questions, suggestions, or comments regarding the 'systemfit' package, please use a forum or 'tracker' at systemfit's R-Forge site:\n",
      "https://r-forge.r-project.org/projects/systemfit/\n",
      "Loading required package: survival\n"
     ]
    }
   ],
   "source": [
    "# load necessary libraries\n",
    "library(gmm)\n",
    "library(systemfit)\n",
    "library(AER)"
   ]
  },
  {
   "cell_type": "code",
   "execution_count": 2,
   "id": "06a67a91-cecb-4f3d-a288-240364d9379d",
   "metadata": {},
   "outputs": [],
   "source": [
    "# generate data\n",
    "#number of observations\n",
    "n <- 250\n",
    "\n",
    "#set seed for replication of the results\n",
    "set.seed(155) \n",
    "\n",
    "# create z\n",
    "z1 <-rnorm(n, 3, 9)\n",
    "z2 <-rnorm(n, 2, 0.5*0.5)\n",
    "z3 <-rnorm(n, 0, 4)\n",
    "z4 <-rnorm(n, 2.8, 0.2*0.2)\n",
    "\n",
    "\n",
    "# create erorrs\n",
    "e1 <- rnorm(n, 0, 1.2*1.2)\n",
    "e2 <- rnorm(n, 0, 1.2*1.2)\n",
    "e3 <- rnorm(n, 0, 1.2*1.2)\n",
    "\n",
    "# create x1, x2 and x3\n",
    "x1 <- 0.8*z1 + 2*z2 - 3*z4 + 0.5*e1\n",
    "\n",
    "x2 <- 0.75*z2 - z4 + 0.5*e2\n",
    "\n",
    "x3 <- rnorm(n, 0, 1)\n",
    "\n",
    "# create the dependent variable\n",
    "y <- 1 + 2*x1 - 0.5*x2 + 2.5*x3 + e3"
   ]
  },
  {
   "cell_type": "code",
   "execution_count": 3,
   "id": "549ebce0-f2af-403a-9fb4-11efdf8d4c5a",
   "metadata": {
    "tags": []
   },
   "outputs": [
    {
     "data": {
      "text/html": [
       "<table>\n",
       "<thead><tr><th></th><th scope=col>x1</th><th scope=col>x2</th><th scope=col>x3</th></tr></thead>\n",
       "<tbody>\n",
       "\t<tr><th scope=row>x1</th><td> 1.00000000</td><td>0.01402747 </td><td>-0.01715505</td></tr>\n",
       "\t<tr><th scope=row>x2</th><td> 0.01402747</td><td>1.00000000 </td><td> 0.09912384</td></tr>\n",
       "\t<tr><th scope=row>x3</th><td>-0.01715505</td><td>0.09912384 </td><td> 1.00000000</td></tr>\n",
       "</tbody>\n",
       "</table>\n"
      ],
      "text/latex": [
       "\\begin{tabular}{r|lll}\n",
       "  & x1 & x2 & x3\\\\\n",
       "\\hline\n",
       "\tx1 &  1.00000000 & 0.01402747  & -0.01715505\\\\\n",
       "\tx2 &  0.01402747 & 1.00000000  &  0.09912384\\\\\n",
       "\tx3 & -0.01715505 & 0.09912384  &  1.00000000\\\\\n",
       "\\end{tabular}\n"
      ],
      "text/markdown": [
       "\n",
       "| <!--/--> | x1 | x2 | x3 |\n",
       "|---|---|---|---|\n",
       "| x1 |  1.00000000 | 0.01402747  | -0.01715505 |\n",
       "| x2 |  0.01402747 | 1.00000000  |  0.09912384 |\n",
       "| x3 | -0.01715505 | 0.09912384  |  1.00000000 |\n",
       "\n"
      ],
      "text/plain": [
       "   x1          x2         x3         \n",
       "x1  1.00000000 0.01402747 -0.01715505\n",
       "x2  0.01402747 1.00000000  0.09912384\n",
       "x3 -0.01715505 0.09912384  1.00000000"
      ]
     },
     "metadata": {},
     "output_type": "display_data"
    }
   ],
   "source": [
    "# create dataframe with all variables\n",
    "data <- data.frame(y,x1,x2,x3,z1,z2,z3,z4,e1,e2,e3)\n",
    "data_x <- data.frame(x1, x2, x3)\n",
    "\n",
    "#create correlation matrix \n",
    "cor(data_x)"
   ]
  },
  {
   "cell_type": "markdown",
   "id": "c1680850-02c5-4661-969f-06f2039483ce",
   "metadata": {},
   "source": [
    "### (a)\n",
    "\n",
    "We can expect endogeneity in the model, because variable x2 is ommitted from the estimated model and its effect is observed in the eror term. The reason why it causes endogeneity is that x1 and x2 may be correlated. It is because both contain independent varaiables z2 and z4 in their equations. Correlation matrix shows that the correlation is very low. As the correlation is positive and effect of x2 is negative, we expect downward bias of β1 in OLS. \n",
    "We suggest to use test for endogeneity and use instrumental variable."
   ]
  },
  {
   "cell_type": "markdown",
   "id": "35f70f52-fb3e-495e-ae08-c9352457e9cc",
   "metadata": {},
   "source": [
    "### (b)"
   ]
  },
  {
   "cell_type": "code",
   "execution_count": 4,
   "id": "65aaa485-b493-4a3c-abdd-836fc2428959",
   "metadata": {
    "tags": []
   },
   "outputs": [
    {
     "data": {
      "text/plain": [
       "\n",
       "Call:\n",
       "lm(formula = y ~ x1 + x3)\n",
       "\n",
       "Residuals:\n",
       "    Min      1Q  Median      3Q     Max \n",
       "-4.9515 -1.0177  0.0161  0.8810  5.6366 \n",
       "\n",
       "Coefficients:\n",
       "            Estimate Std. Error t value Pr(>|t|)    \n",
       "(Intercept)  1.74996    0.09844   17.78   <2e-16 ***\n",
       "x1           1.99216    0.01321  150.78   <2e-16 ***\n",
       "x3           2.36952    0.09377   25.27   <2e-16 ***\n",
       "---\n",
       "Signif. codes:  0 '***' 0.001 '**' 0.01 '*' 0.05 '.' 0.1 ' ' 1\n",
       "\n",
       "Residual standard error: 1.498 on 247 degrees of freedom\n",
       "Multiple R-squared:  0.9895,\tAdjusted R-squared:  0.9894 \n",
       "F-statistic: 1.162e+04 on 2 and 247 DF,  p-value: < 2.2e-16\n"
      ]
     },
     "metadata": {},
     "output_type": "display_data"
    }
   ],
   "source": [
    "# model estimated with OLS\n",
    "model_OLS <- lm(y ~ x1 + x3)\n",
    "summary(model_OLS)"
   ]
  },
  {
   "cell_type": "markdown",
   "id": "2e525607-d789-414a-a9e7-242e1550db9b",
   "metadata": {},
   "source": [
    "Model estimated by OLS leads to estimates of β1 and β3 that are statistically significant. Moreover, the coefficients are relatively close to correct coefficients that are in the data generating process. The only exception is intercept, that is different from its correct value of 1."
   ]
  },
  {
   "cell_type": "markdown",
   "id": "e73441ef-617e-47ce-9f92-5361f9038de9",
   "metadata": {},
   "source": [
    "### (c)"
   ]
  },
  {
   "cell_type": "code",
   "execution_count": 5,
   "id": "5a715e41-d1fd-4c3c-867c-bc2016f1decf",
   "metadata": {
    "tags": []
   },
   "outputs": [
    {
     "data": {
      "text/plain": [
       "\n",
       "Call:\n",
       "lm(formula = x1 ~ z1, data = data)\n",
       "\n",
       "Residuals:\n",
       "     Min       1Q   Median       3Q      Max \n",
       "-2.84521 -0.52627  0.05116  0.53078  2.07466 \n",
       "\n",
       "Coefficients:\n",
       "            Estimate Std. Error t value Pr(>|t|)    \n",
       "(Intercept) -4.31652    0.05222  -82.66   <2e-16 ***\n",
       "z1           0.80325    0.00560  143.45   <2e-16 ***\n",
       "---\n",
       "Signif. codes:  0 '***' 0.001 '**' 0.01 '*' 0.05 '.' 0.1 ' ' 1\n",
       "\n",
       "Residual standard error: 0.7857 on 248 degrees of freedom\n",
       "Multiple R-squared:  0.9881,\tAdjusted R-squared:  0.988 \n",
       "F-statistic: 2.058e+04 on 1 and 248 DF,  p-value: < 2.2e-16\n"
      ]
     },
     "metadata": {},
     "output_type": "display_data"
    },
    {
     "data": {
      "text/plain": [
       "\n",
       "Call:\n",
       "lm(formula = x1 ~ z1 + z2 + z3 + z4, data = data)\n",
       "\n",
       "Residuals:\n",
       "     Min       1Q   Median       3Q      Max \n",
       "-2.23684 -0.43642 -0.00014  0.46014  1.84144 \n",
       "\n",
       "Coefficients:\n",
       "             Estimate Std. Error t value Pr(>|t|)    \n",
       "(Intercept) -4.277488   3.034664  -1.410    0.160    \n",
       "z1           0.806907   0.004891 164.992   <2e-16 ***\n",
       "z2           1.723637   0.190799   9.034   <2e-16 ***\n",
       "z3          -0.011037   0.011054  -0.998    0.319    \n",
       "z4          -1.256338   1.084541  -1.158    0.248    \n",
       "---\n",
       "Signif. codes:  0 '***' 0.001 '**' 0.01 '*' 0.05 '.' 0.1 ' ' 1\n",
       "\n",
       "Residual standard error: 0.6819 on 245 degrees of freedom\n",
       "Multiple R-squared:  0.9911,\tAdjusted R-squared:  0.991 \n",
       "F-statistic:  6851 on 4 and 245 DF,  p-value: < 2.2e-16\n"
      ]
     },
     "metadata": {},
     "output_type": "display_data"
    },
    {
     "data": {
      "text/html": [
       "<table>\n",
       "<thead><tr><th scope=col>Res.Df</th><th scope=col>RSS</th><th scope=col>Df</th><th scope=col>Sum of Sq</th><th scope=col>F</th><th scope=col>Pr(&gt;F)</th></tr></thead>\n",
       "<tbody>\n",
       "\t<tr><td>248         </td><td>153.0876    </td><td>NA          </td><td>      NA    </td><td>      NA    </td><td>          NA</td></tr>\n",
       "\t<tr><td>245         </td><td>113.9088    </td><td> 3          </td><td>39.17881    </td><td>28.08915    </td><td>1.202389e-15</td></tr>\n",
       "</tbody>\n",
       "</table>\n"
      ],
      "text/latex": [
       "\\begin{tabular}{r|llllll}\n",
       " Res.Df & RSS & Df & Sum of Sq & F & Pr(>F)\\\\\n",
       "\\hline\n",
       "\t 248          & 153.0876     & NA           &       NA     &       NA     &           NA\\\\\n",
       "\t 245          & 113.9088     &  3           & 39.17881     & 28.08915     & 1.202389e-15\\\\\n",
       "\\end{tabular}\n"
      ],
      "text/markdown": [
       "\n",
       "| Res.Df | RSS | Df | Sum of Sq | F | Pr(>F) |\n",
       "|---|---|---|---|---|---|\n",
       "| 248          | 153.0876     | NA           |       NA     |       NA     |           NA |\n",
       "| 245          | 113.9088     |  3           | 39.17881     | 28.08915     | 1.202389e-15 |\n",
       "\n"
      ],
      "text/plain": [
       "  Res.Df RSS      Df Sum of Sq F        Pr(>F)      \n",
       "1 248    153.0876 NA       NA        NA           NA\n",
       "2 245    113.9088  3 39.17881  28.08915 1.202389e-15"
      ]
     },
     "metadata": {},
     "output_type": "display_data"
    }
   ],
   "source": [
    "# check relevance of instruments\n",
    "instruments1 <- lm(x1 ~ z1, data = data)\n",
    "summary(instruments1)\n",
    "\n",
    "instruments4 <- lm(x1 ~ z1 + z2 + z3 + z4, data = data)\n",
    "summary(instruments4)\n",
    " \n",
    "anova(instruments1,instruments4)"
   ]
  },
  {
   "cell_type": "code",
   "execution_count": 6,
   "id": "d2539051-9cfb-421a-b801-78db29ab06af",
   "metadata": {
    "tags": []
   },
   "outputs": [
    {
     "data": {
      "text/plain": [
       "\n",
       "Call:\n",
       "lm(formula = x1 ~ z1 + z2 + z4, data = data)\n",
       "\n",
       "Residuals:\n",
       "     Min       1Q   Median       3Q      Max \n",
       "-2.22906 -0.44284 -0.01179  0.43959  1.80252 \n",
       "\n",
       "Coefficients:\n",
       "             Estimate Std. Error t value Pr(>|t|)    \n",
       "(Intercept) -4.054428   3.026409  -1.340    0.182    \n",
       "z1           0.807169   0.004884 165.284   <2e-16 ***\n",
       "z2           1.733946   0.190519   9.101   <2e-16 ***\n",
       "z4          -1.342828   1.081069  -1.242    0.215    \n",
       "---\n",
       "Signif. codes:  0 '***' 0.001 '**' 0.01 '*' 0.05 '.' 0.1 ' ' 1\n",
       "\n",
       "Residual standard error: 0.6819 on 246 degrees of freedom\n",
       "Multiple R-squared:  0.9911,\tAdjusted R-squared:  0.991 \n",
       "F-statistic:  9135 on 3 and 246 DF,  p-value: < 2.2e-16\n"
      ]
     },
     "metadata": {},
     "output_type": "display_data"
    },
    {
     "data": {
      "text/plain": [
       "\n",
       "Call:\n",
       "lm(formula = x1 ~ z1 + z2 + z3 + z4, data = data)\n",
       "\n",
       "Residuals:\n",
       "     Min       1Q   Median       3Q      Max \n",
       "-2.23684 -0.43642 -0.00014  0.46014  1.84144 \n",
       "\n",
       "Coefficients:\n",
       "             Estimate Std. Error t value Pr(>|t|)    \n",
       "(Intercept) -4.277488   3.034664  -1.410    0.160    \n",
       "z1           0.806907   0.004891 164.992   <2e-16 ***\n",
       "z2           1.723637   0.190799   9.034   <2e-16 ***\n",
       "z3          -0.011037   0.011054  -0.998    0.319    \n",
       "z4          -1.256338   1.084541  -1.158    0.248    \n",
       "---\n",
       "Signif. codes:  0 '***' 0.001 '**' 0.01 '*' 0.05 '.' 0.1 ' ' 1\n",
       "\n",
       "Residual standard error: 0.6819 on 245 degrees of freedom\n",
       "Multiple R-squared:  0.9911,\tAdjusted R-squared:  0.991 \n",
       "F-statistic:  6851 on 4 and 245 DF,  p-value: < 2.2e-16\n"
      ]
     },
     "metadata": {},
     "output_type": "display_data"
    },
    {
     "data": {
      "text/html": [
       "<table>\n",
       "<thead><tr><th scope=col>Res.Df</th><th scope=col>RSS</th><th scope=col>Df</th><th scope=col>Sum of Sq</th><th scope=col>F</th><th scope=col>Pr(&gt;F)</th></tr></thead>\n",
       "<tbody>\n",
       "\t<tr><td>246      </td><td>114.3723 </td><td>NA       </td><td>       NA</td><td>       NA</td><td>       NA</td></tr>\n",
       "\t<tr><td>245      </td><td>113.9088 </td><td> 1       </td><td>0.4634569</td><td>0.9968229</td><td>0.3190656</td></tr>\n",
       "</tbody>\n",
       "</table>\n"
      ],
      "text/latex": [
       "\\begin{tabular}{r|llllll}\n",
       " Res.Df & RSS & Df & Sum of Sq & F & Pr(>F)\\\\\n",
       "\\hline\n",
       "\t 246       & 114.3723  & NA        &        NA &        NA &        NA\\\\\n",
       "\t 245       & 113.9088  &  1        & 0.4634569 & 0.9968229 & 0.3190656\\\\\n",
       "\\end{tabular}\n"
      ],
      "text/markdown": [
       "\n",
       "| Res.Df | RSS | Df | Sum of Sq | F | Pr(>F) |\n",
       "|---|---|---|---|---|---|\n",
       "| 246       | 114.3723  | NA        |        NA |        NA |        NA |\n",
       "| 245       | 113.9088  |  1        | 0.4634569 | 0.9968229 | 0.3190656 |\n",
       "\n"
      ],
      "text/plain": [
       "  Res.Df RSS      Df Sum of Sq F         Pr(>F)   \n",
       "1 246    114.3723 NA        NA        NA        NA\n",
       "2 245    113.9088  1 0.4634569 0.9968229 0.3190656"
      ]
     },
     "metadata": {},
     "output_type": "display_data"
    }
   ],
   "source": [
    "# check relevance of z3\n",
    "instruments3 <- lm(x1 ~ z1 + z2 + z4, data = data)\n",
    "summary(instruments3)\n",
    "\n",
    "instruments4 <- lm(x1 ~ z1 + z2 + z3 + z4, data = data)\n",
    "summary(instruments4)\n",
    " \n",
    "anova(instruments3,instruments4)"
   ]
  },
  {
   "cell_type": "markdown",
   "id": "8098b1b9-d922-48b6-871b-34af28708d74",
   "metadata": {},
   "source": [
    "We will calculate also correlations."
   ]
  },
  {
   "cell_type": "code",
   "execution_count": 7,
   "id": "16b7005c-e460-4531-991b-3febb9b3ca99",
   "metadata": {
    "tags": []
   },
   "outputs": [
    {
     "data": {
      "text/html": [
       "<table>\n",
       "<tbody>\n",
       "\t<tr><th scope=row>z1</th><td> 0.99402800</td></tr>\n",
       "\t<tr><th scope=row>z2</th><td>-0.02644400</td></tr>\n",
       "\t<tr><th scope=row>z3</th><td>-0.05404251</td></tr>\n",
       "\t<tr><th scope=row>z4</th><td> 0.04733485</td></tr>\n",
       "</tbody>\n",
       "</table>\n"
      ],
      "text/latex": [
       "\\begin{tabular}{r|l}\n",
       "\tz1 &  0.99402800\\\\\n",
       "\tz2 & -0.02644400\\\\\n",
       "\tz3 & -0.05404251\\\\\n",
       "\tz4 &  0.04733485\\\\\n",
       "\\end{tabular}\n"
      ],
      "text/markdown": [
       "\n",
       "| z1 |  0.99402800 |\n",
       "| z2 | -0.02644400 |\n",
       "| z3 | -0.05404251 |\n",
       "| z4 |  0.04733485 |\n",
       "\n"
      ],
      "text/plain": [
       "   [,1]       \n",
       "z1  0.99402800\n",
       "z2 -0.02644400\n",
       "z3 -0.05404251\n",
       "z4  0.04733485"
      ]
     },
     "metadata": {},
     "output_type": "display_data"
    }
   ],
   "source": [
    "# Correlation between IVs z1, z2,... and x1\n",
    "data_z <- data.frame(z1, z2, z3, z4)\n",
    "cor(data_z,data$x1)"
   ]
  },
  {
   "cell_type": "code",
   "execution_count": 8,
   "id": "64fbe39c-3991-4da0-a27c-efbb2177dfc6",
   "metadata": {},
   "outputs": [],
   "source": [
    "# create composed error from x2 and e3 (it would not be possible in actual data, that are not artificially generated)\n",
    "e <- -0.5*x2 + e3\n",
    "data$e <- e"
   ]
  },
  {
   "cell_type": "code",
   "execution_count": 9,
   "id": "276a3958-182c-42f4-9ce2-6619f42a4091",
   "metadata": {
    "tags": []
   },
   "outputs": [
    {
     "data": {
      "text/html": [
       "<table>\n",
       "<tbody>\n",
       "\t<tr><th scope=row>z1</th><td>-0.028592784</td></tr>\n",
       "\t<tr><th scope=row>z2</th><td>-0.010938522</td></tr>\n",
       "\t<tr><th scope=row>z3</th><td> 0.027912891</td></tr>\n",
       "\t<tr><th scope=row>z4</th><td>-0.006271599</td></tr>\n",
       "</tbody>\n",
       "</table>\n"
      ],
      "text/latex": [
       "\\begin{tabular}{r|l}\n",
       "\tz1 & -0.028592784\\\\\n",
       "\tz2 & -0.010938522\\\\\n",
       "\tz3 &  0.027912891\\\\\n",
       "\tz4 & -0.006271599\\\\\n",
       "\\end{tabular}\n"
      ],
      "text/markdown": [
       "\n",
       "| z1 | -0.028592784 |\n",
       "| z2 | -0.010938522 |\n",
       "| z3 |  0.027912891 |\n",
       "| z4 | -0.006271599 |\n",
       "\n"
      ],
      "text/plain": [
       "   [,1]        \n",
       "z1 -0.028592784\n",
       "z2 -0.010938522\n",
       "z3  0.027912891\n",
       "z4 -0.006271599"
      ]
     },
     "metadata": {},
     "output_type": "display_data"
    }
   ],
   "source": [
    "# check correlation between z1, z2,... and composed error\n",
    "cor(data_z,data$e)"
   ]
  },
  {
   "cell_type": "markdown",
   "id": "fbd277ec-992c-4b54-a8e5-58a960b82056",
   "metadata": {},
   "source": [
    "To be a good instuments a variable must be uncorrelated with error term  ϵ, which consists of - 0.5*x2 and e3. Second, it should be correlated with x1. Theoretically, from the data generating process we know, that z2 and z4 are correlated with x1, but they are also correlated with x2. Thus they do not satisfy necessary conditions. Only z1 satisfies both conditions.\n",
    "\n",
    "When testing the relevance of the potential instrumental varaibles, we found that z1,z2 and z4 are relevant. Only z3 is irrelevant.\n",
    "\n",
    "Calculated correlations shows that correlation between z1 and x1 is strong. So, it is a good instrument. Correlation between error term - 0.5*x2 + e3 and z2, z4 is low, which is reason why they should not be invalid. Also correlation between x1 and z2 and z4 is low. Therefore the two are rather weak instruments."
   ]
  },
  {
   "cell_type": "markdown",
   "id": "2119e66f-0fcc-4027-ab68-8b8878af74e9",
   "metadata": {},
   "source": [
    "### (d)"
   ]
  },
  {
   "cell_type": "code",
   "execution_count": 10,
   "id": "7d806b7c-60ad-4ce2-bf4d-4508f0b6bc49",
   "metadata": {
    "tags": []
   },
   "outputs": [
    {
     "data": {
      "text/plain": [
       "\n",
       "Call:\n",
       "ivreg(formula = y ~ x1 + x3 | x3 + z1, data = data)\n",
       "\n",
       "Residuals:\n",
       "     Min       1Q   Median       3Q      Max \n",
       "-4.94205 -1.01994  0.01425  0.87593  5.62444 \n",
       "\n",
       "Coefficients:\n",
       "            Estimate Std. Error t value Pr(>|t|)    \n",
       "(Intercept)  1.75309    0.09849   17.80   <2e-16 ***\n",
       "x1           1.99371    0.01329  149.99   <2e-16 ***\n",
       "x3           2.36971    0.09377   25.27   <2e-16 ***\n",
       "---\n",
       "Signif. codes:  0 '***' 0.001 '**' 0.01 '*' 0.05 '.' 0.1 ' ' 1\n",
       "\n",
       "Residual standard error: 1.498 on 247 degrees of freedom\n",
       "Multiple R-Squared: 0.9895,\tAdjusted R-squared: 0.9894 \n",
       "Wald test: 1.151e+04 on 2 and 247 DF,  p-value: < 2.2e-16 \n"
      ]
     },
     "metadata": {},
     "output_type": "display_data"
    }
   ],
   "source": [
    "# model estimated with IV\n",
    "model_IV <- ivreg(y ~ x1 + x3 | x3 + z1, data = data)\n",
    "summary(model_IV)"
   ]
  },
  {
   "cell_type": "code",
   "execution_count": 11,
   "id": "0adcf848-2016-4ca6-9f99-17aea24a0a63",
   "metadata": {
    "tags": []
   },
   "outputs": [
    {
     "data": {
      "text/plain": [
       "\n",
       "Call:\n",
       "tsls(g = y ~ x1 + x3, x = ~x3 + z1 + z2 + z4, data = data)\n",
       "\n",
       "\n",
       "Method:  Two Stage Least Squares(Meat type = Classical) \n",
       "\n",
       "Coefficients:\n",
       "             Estimate     Std. Error   t value      Pr(>|t|)   \n",
       "(Intercept)   1.7530e+00   9.8477e-02   1.7801e+01   6.9882e-71\n",
       "x1            1.9936e+00   1.3272e-02   1.5021e+02   0.0000e+00\n",
       "x3            2.3697e+00   9.3770e-02   2.5271e+01  6.5747e-141\n",
       "\n",
       "J-Test: degrees of freedom is 2 \n",
       "                J-test     P-value  \n",
       "Test E(g)=0:    0.0090764  0.9954721\n",
       "\n",
       "\n",
       " First stage F-statistics: \n",
       "x1 : F( 4 ,  245 ) =  6840.047  (P-Vavue =  0 )"
      ]
     },
     "metadata": {},
     "output_type": "display_data"
    }
   ],
   "source": [
    "# model estimated with 2SLS\n",
    "model_2SLS = tsls(y ~ x1 + x3, ~ x3 + z1 + z2 + z4, data = data)\n",
    "summary(model_2SLS)"
   ]
  },
  {
   "cell_type": "markdown",
   "id": "d19cc0cf-60f9-4abb-b498-bb77661e2847",
   "metadata": {},
   "source": [
    "The coefficient estimates and standard errors of the two models are very close. The results are only negligible."
   ]
  },
  {
   "cell_type": "markdown",
   "id": "75e9f9ab-c215-4dac-a821-1ce60cc6353a",
   "metadata": {},
   "source": [
    "### (e)"
   ]
  },
  {
   "cell_type": "code",
   "execution_count": 21,
   "id": "8fc0a5b3-d9b6-4230-b776-999176f80551",
   "metadata": {
    "tags": []
   },
   "outputs": [
    {
     "data": {
      "text/plain": [
       "\n",
       "\tHausman specification test for consistency of the 3SLS estimation\n",
       "\n",
       "data:  data\n",
       "Hausman = 1.3949, df = 3, p-value = 0.7067\n"
      ]
     },
     "metadata": {},
     "output_type": "display_data"
    }
   ],
   "source": [
    "# Hausman test\n",
    "model_ols <- systemfit(y ~ x1 + x3, data = data, method = \"OLS\")\n",
    "\n",
    "model_iv <- systemfit(y ~ x1 + x3, data = data, method = \"2SLS\", inst = ~ x3 + z1 + z2 + z4)\n",
    "\n",
    "hausman.systemfit(model_iv, model_ols)"
   ]
  },
  {
   "cell_type": "markdown",
   "id": "40e1c408-757c-4dfe-ae78-16a3d79dce5c",
   "metadata": {},
   "source": [
    "Results of Hausman test containing p value much above 0.1 indicate that we cannot reject null hypothesis that both estimators (OLS and IV) are consistent. Thus, we cannot confirm that endogeneity is present."
   ]
  },
  {
   "cell_type": "markdown",
   "id": "7660bd8f-7ba0-4854-99e2-7dd940862b85",
   "metadata": {},
   "source": [
    "### (f)"
   ]
  },
  {
   "cell_type": "code",
   "execution_count": 13,
   "id": "4fd2b3cf-fec4-4433-9141-22058afbe0cf",
   "metadata": {
    "tags": []
   },
   "outputs": [],
   "source": [
    "# larger dataset\n",
    "# number of observations\n",
    "nE <- 100000\n",
    "\n",
    "#set seed for replication of the results\n",
    "set.seed(153) \n",
    "\n",
    "# create z\n",
    "z1E <-rnorm(nE, 3, 9)\n",
    "z2E <-rnorm(nE, 2, 0.5*0.5)\n",
    "z3E <-rnorm(nE, 0, 4)\n",
    "z4E <-rnorm(nE, 2.8, 0.2*0.2)\n",
    "\n",
    "\n",
    "# create erorrs\n",
    "e1E <- rnorm(nE, 0, 1.2*1.2)\n",
    "e2E <- rnorm(nE, 0, 1.2*1.2)\n",
    "e3E <- rnorm(nE, 0, 1.2*1.2)\n",
    "\n",
    "# create x1, x2 and x3\n",
    "x1E <- 0.8*z1E + 2*z2E - 3*z4E+ 0.5*e1E\n",
    "\n",
    "x2E <- 0.75*z2E - z4E + 0.5*e2E\n",
    "\n",
    "x3E <- rnorm(nE, 0, 1)\n",
    "\n",
    "# create the dependent variable\n",
    "yE <- 1 + 2*x1E - 0.5*x2E + 2.5*x3E + e3E"
   ]
  },
  {
   "cell_type": "code",
   "execution_count": 14,
   "id": "cff9725a-b087-4d57-9844-2f0f4eb1ebad",
   "metadata": {
    "tags": []
   },
   "outputs": [],
   "source": [
    "# create dataframe with all variables\n",
    "dataE <- data.frame(yE,x1E,x2E,x3E,z1E,z2E,z3E,z4E,e1E,e2E,e3E)"
   ]
  },
  {
   "cell_type": "code",
   "execution_count": 15,
   "id": "ac874d7e-d6ff-41da-aa70-ee29d824bb8f",
   "metadata": {
    "tags": []
   },
   "outputs": [
    {
     "data": {
      "text/plain": [
       "\n",
       "Call:\n",
       "lm(formula = yE ~ x1E + x3E, data = dataE)\n",
       "\n",
       "Residuals:\n",
       "    Min      1Q  Median      3Q     Max \n",
       "-6.6787 -0.9953 -0.0003  1.0003  7.1941 \n",
       "\n",
       "Coefficients:\n",
       "             Estimate Std. Error t value Pr(>|t|)    \n",
       "(Intercept) 1.6539836  0.0048670   339.8   <2e-16 ***\n",
       "x1E         1.9988284  0.0006458  3094.9   <2e-16 ***\n",
       "x3E         2.4940887  0.0046939   531.3   <2e-16 ***\n",
       "---\n",
       "Signif. codes:  0 '***' 0.001 '**' 0.01 '*' 0.05 '.' 0.1 ' ' 1\n",
       "\n",
       "Residual standard error: 1.484 on 99997 degrees of freedom\n",
       "Multiple R-squared:   0.99,\tAdjusted R-squared:   0.99 \n",
       "F-statistic: 4.929e+06 on 2 and 99997 DF,  p-value: < 2.2e-16\n"
      ]
     },
     "metadata": {},
     "output_type": "display_data"
    }
   ],
   "source": [
    "# model estimated with OLS\n",
    "model_OLS_E <- lm(yE ~ x1E + x3E, data = dataE)\n",
    "summary(model_OLS_E)"
   ]
  },
  {
   "cell_type": "code",
   "execution_count": 16,
   "id": "0b57de13-bee9-47ec-ab20-973e99891180",
   "metadata": {
    "tags": []
   },
   "outputs": [
    {
     "data": {
      "text/plain": [
       "\n",
       "Call:\n",
       "ivreg(formula = yE ~ x1E + x3E | z1E + x3E, data = dataE)\n",
       "\n",
       "Residuals:\n",
       "      Min        1Q    Median        3Q       Max \n",
       "-6.670014 -0.994101 -0.001127  1.000271  7.200861 \n",
       "\n",
       "Coefficients:\n",
       "             Estimate Std. Error t value Pr(>|t|)    \n",
       "(Intercept) 1.6560090  0.0048696   340.1   <2e-16 ***\n",
       "x1E         1.9998446  0.0006507  3073.4   <2e-16 ***\n",
       "x3E         2.4940944  0.0046939   531.3   <2e-16 ***\n",
       "---\n",
       "Signif. codes:  0 '***' 0.001 '**' 0.01 '*' 0.05 '.' 0.1 ' ' 1\n",
       "\n",
       "Residual standard error: 1.484 on 99997 degrees of freedom\n",
       "Multiple R-Squared:  0.99,\tAdjusted R-squared:  0.99 \n",
       "Wald test: 4.863e+06 on 2 and 99997 DF,  p-value: < 2.2e-16 \n"
      ]
     },
     "metadata": {},
     "output_type": "display_data"
    }
   ],
   "source": [
    "# model estimated with IV\n",
    "model_IV_E <- ivreg(yE ~ x1E + x3E |  z1E + x3E, data = dataE)\n",
    "summary(model_IV_E)"
   ]
  },
  {
   "cell_type": "code",
   "execution_count": 17,
   "id": "2f826f9f-8d61-4f9f-ac90-13d6b49b3883",
   "metadata": {
    "tags": []
   },
   "outputs": [
    {
     "data": {
      "text/plain": [
       "\n",
       "Call:\n",
       "tsls(g = yE ~ x1E + x3E, x = ~x3E + z1E + z2E + z4E, data = dataE)\n",
       "\n",
       "\n",
       "Method:  Two Stage Least Squares(Meat type = Classical) \n",
       "\n",
       "Coefficients:\n",
       "             Estimate    Std. Error  t value     Pr(>|t|)  \n",
       "(Intercept)  1.6541e+00  4.8687e-03  3.3974e+02  0.0000e+00\n",
       "x1E          1.9989e+00  6.4906e-04  3.0797e+03  0.0000e+00\n",
       "x3E          2.4941e+00  4.6939e-03  5.3135e+02  0.0000e+00\n",
       "\n",
       "J-Test: degrees of freedom is 2 \n",
       "                J-test      P-value   \n",
       "Test E(g)=0:    4.2375e+02  9.6475e-93\n",
       "\n",
       "\n",
       " First stage F-statistics: \n",
       "x1E : F( 4 ,  99995 ) =  2507268  (P-Vavue =  0 )"
      ]
     },
     "metadata": {},
     "output_type": "display_data"
    }
   ],
   "source": [
    "# model estimated with 2SLS\n",
    "model_2SLS_E = tsls(yE ~ x1E + x3E, ~ x3E + z1E + z2E + z4E, data = dataE)\n",
    "summary(model_2SLS_E)"
   ]
  },
  {
   "cell_type": "code",
   "execution_count": 24,
   "id": "28607f72-e8db-4b6f-a004-8e181e55847e",
   "metadata": {
    "tags": []
   },
   "outputs": [
    {
     "name": "stdout",
     "output_type": "stream",
     "text": [
      "\n",
      "\tHausman specification test for consistency of the 3SLS estimation\n",
      "\n",
      "data:  dataE\n",
      "Hausman = 164.55, df = 3, p-value < 2.2e-16\n",
      "\n"
     ]
    }
   ],
   "source": [
    "# Hausman test\n",
    "model_ols_E <- systemfit(yE ~ x1E + x3E, data = dataE, method = \"OLS\")\n",
    "model__E <- systemfit(yE ~ x1E + x3E, data = dataE, method = \"2SLS\", inst = ~ x3E +  z1E + z2E + z4E)\n",
    "\n",
    "print(hausman.systemfit(model_iv_E, model_ols_E))"
   ]
  },
  {
   "cell_type": "markdown",
   "id": "3c1ce2f4-0d77-476d-9bab-1a492780f464",
   "metadata": {},
   "source": [
    "Estimates for the second dataset show significantly lower p-value than for the first dataset. For any reasonable significance level we can reject null hypothesis that both estimators (OLS and 2SLS) are consistent. It implies that only 2SLS provides consistent estimates and endogeneity is present."
   ]
  }
 ],
 "metadata": {
  "kernelspec": {
   "display_name": "R",
   "language": "R",
   "name": "ir"
  },
  "language_info": {
   "codemirror_mode": "r",
   "file_extension": ".r",
   "mimetype": "text/x-r-source",
   "name": "R",
   "pygments_lexer": "r",
   "version": "3.6.1"
  }
 },
 "nbformat": 4,
 "nbformat_minor": 5
}
