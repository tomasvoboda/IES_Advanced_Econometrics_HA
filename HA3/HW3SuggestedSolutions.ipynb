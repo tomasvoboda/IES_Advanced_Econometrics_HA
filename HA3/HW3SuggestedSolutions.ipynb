{
 "cells": [
  {
   "cell_type": "markdown",
   "id": "12ba0525",
   "metadata": {},
   "source": [
    "# Problem 1\n",
    "\n",
    "Simulate $n=500$ data points from the linear model $y_i = \\alpha + \\beta x_i + \\epsilon_i$, where $x_1,...,x_n$ are observations from a random sample $X_1,...,X_n \\sim \\mathcal{N}^n(14, 25)$ and $\\epsilon|x \\sim \\mathcal{N}^n\\left(0, x^{2\\gamma} \\right)$. Let's assume that the model parameters are $\\alpha=4$, $\\beta=1$, and $\\gamma=0.5$. The goal in this problem is to correctly estimate those parameters.\n",
    "Remember to use **set.seed()** to make your results replicable. Recall that the parameters of the normal distribution are given in the form $\\mathcal{N}(\\mu,\\sigma^2)$, not $\\mathcal{N}(\\mu,\\sigma)$.\n",
    "\n",
    "## a)\n",
    "**Estimate model y = Xβ +ϵ on the simulated data using OLS. Interpret the results. Do you expect any of the OLS assumptions to be violated. If yes, make the corresponding tests, and interpret the results.**\n",
    "\n",
    "First, we simulate the data."
   ]
  },
  {
   "cell_type": "code",
   "execution_count": 1,
   "id": "b626c835",
   "metadata": {},
   "outputs": [],
   "source": [
    "n=500 # number of samples\n",
    "\n",
    "set.seed(123) # we keep the same seed, so that the below results are always the same anytime we run the code\n",
    "\n",
    "x=rnorm(n, mean=14, sd=5) # generate n samples of explanatory var. x with true distribution N(14,5)\n",
    "\n",
    "# the true parameters are:\n",
    "alpha=4; beta=1; gamma=0.5\n",
    "\n",
    "\n",
    "eps=rnorm(n, mean=0, sd=x**gamma) # generate n samples of the error terms epsilon from the true distribution N(0,x^(2 gamma))\n",
    "y = alpha + beta*x + eps # generate n samples of the dependent variable y based on the true model\n"
   ]
  },
  {
   "cell_type": "markdown",
   "id": "2121b864",
   "metadata": {},
   "source": [
    "Second, we look at the relationship between $x$ and $y$ using a scatter plot."
   ]
  },
  {
   "cell_type": "code",
   "execution_count": 2,
   "id": "21dc5941",
   "metadata": {},
   "outputs": [
    {
     "data": {
      "image/png": "[encoded data removed]",
      "text/plain": [
       "plot without title"
      ]
     },
     "metadata": {
      "image/png": {
       "height": 420,
       "width": 420
      }
     },
     "output_type": "display_data"
    }
   ],
   "source": [
    "plot(x,y)"
   ]
  },
  {
   "cell_type": "markdown",
   "id": "4c4d5ef1",
   "metadata": {},
   "source": [
    "Now, let's start modelling."
   ]
  },
  {
   "cell_type": "code",
   "execution_count": 3,
   "id": "cf0f6342",
   "metadata": {},
   "outputs": [
    {
     "data": {
      "text/plain": [
       "\n",
       "Call:\n",
       "lm(formula = y ~ x)\n",
       "\n",
       "Residuals:\n",
       "    Min      1Q  Median      3Q     Max \n",
       "-11.965  -2.460   0.003   2.375  12.556 \n",
       "\n",
       "Coefficients:\n",
       "            Estimate Std. Error t value Pr(>|t|)    \n",
       "(Intercept)  4.65402    0.53318   8.729   <2e-16 ***\n",
       "x            0.95116    0.03559  26.729   <2e-16 ***\n",
       "---\n",
       "Signif. codes:  0 '***' 0.001 '**' 0.01 '*' 0.05 '.' 0.1 ' ' 1\n",
       "\n",
       "Residual standard error: 3.866 on 498 degrees of freedom\n",
       "Multiple R-squared:  0.5892,\tAdjusted R-squared:  0.5884 \n",
       "F-statistic: 714.4 on 1 and 498 DF,  p-value: < 2.2e-16\n"
      ]
     },
     "metadata": {},
     "output_type": "display_data"
    }
   ],
   "source": [
    "ols <- lm(y ~ x)\n",
    "summary(ols)"
   ]
  },
  {
   "cell_type": "markdown",
   "id": "4087a3e8",
   "metadata": {},
   "source": [
    "### Recall\n",
    "\n",
    "First, it is of upmost importance to know when the use of the OLS estimator on Cross-Sectional data is appropriate. Let's recall the OLS assumptions:\n",
    "\n",
    "1. *Linearity in Parameters*. The model in the population can be written as $y=\\beta X + \\epsilon$, where $\\epsilon$ is an unobserved random error term and $\\beta$ is the unknown vector of parameters of interest.\n",
    "2. *Random Sampling*. The observations $(X_i,y_i)$: $i=1,...,n$ in our dataset follow the population model in 1. .\n",
    "3. *No Perfect Collinearity*. In the sample (and therefore in the population), none of the independent variables is constant, and there are no exact linear relationships among the explanatory variables.\n",
    "4. *Zero Conditional Mean*. $E[\\epsilon|X]=0$.\n",
    "5. *Homoskedasticity*. $V(\\epsilon|X) = \\sigma^2$.\n",
    "\n",
    "And on top of that, we could assume:\n",
    "\n",
    "6. *Normality*. $\\epsilon|x \\sim \\mathcal{N}(0,\\sigma^2I_n)$.\n",
    "\n",
    "\n",
    "### Interpretation\n",
    "\n",
    "Based on the OLS estimates and the associated tests, the following interpretations hold under the assumptions listed above.\n",
    "\n",
    "#### Estimates\n",
    "\n",
    "##### Estimated coefficients\n",
    "We assumed $y = \\alpha + \\beta x + \\epsilon$ (1., linearity in Parameters). Thus, for a fixed value of $x$, say $x^*$, we have $(y|x=x^*) = \\alpha + \\beta x + \\epsilon$. Applying the expectation, $E[y|x=x^*] = \\alpha + \\beta x^* + E[\\epsilon|x=x^*]$. Since $E[y|x]$ is assumed to be $0$ (4., the exogeneity assumption of OLS), we have in particular $E[\\epsilon|x=x^*]=0$. Therefore, $E[y|x=x^*] = \\alpha + \\beta x^*$ and then:\n",
    "\\begin{equation}\n",
    "\\frac{\\partial E[y|x=x^*]}{\\partial x^*} = \\beta\n",
    "\\end{equation}.\n",
    "We can therefore write that, all else being equal and on average, an increase of $x^*$ by 1 leads to an increase of $y$ by $\\beta$. Using the results from the OLS estimation, all else being equal and on average, an increase of $x^*$ by 1 leads to an increase of $y$ by $\\hat\\beta \\overset{.}{=} 0.95$.\n",
    "\n",
    "##### Estimated error variance\n",
    "An unbiased estimator of the error variance, $\\sigma^2$ is $s^2=\\frac{e'e}{n-K}$, where $e$ is the vector of residuals from our regression, and $K$ is the number of parameters in our model. Under the assumptions 1. to 6., $s^2 \\sim \\mathcal{X}(n-K)$. Using the OLS results on our dataset, $s^2=3.87$.\n",
    "\n",
    "#### Hypothesis testing\n",
    "\n",
    "##### Significance of the constant and the explanatory variables\n",
    "Under the assumptions 1., 2., 3., and 4., the OLS estimator is unbiased and if we add the assumption 5., it is efficient.\n",
    "Assuming 1. to 6. and denoting $X=\\left(1, x \\right)$, we have:\n",
    "\n",
    "\\begin{equation}\n",
    "\\label{eqn:statdist}\\tag{1}\n",
    "t_j=\\frac{\\hat\\beta_j-\\beta_j}{\\sqrt{s^2 (X'X)^{-1}_{jj}}} \\sim \\mathcal{T}(n-1)\n",
    "\\end{equation}, for $j=0,1$.\n",
    "\n",
    "Please note that if the assumption $n \\rightarrow \\infty$ make sense, 6. can be relaxed and $t_j \\overset{d}{\\rightarrow} \\mathcal{N}(0,1)$.\n",
    "\n",
    "Thus, assuming 1. to 5. and that $n \\rightarrow \\infty$ make sense, we can safely test $H_0: \\beta_j=0$ against $H_1: \\beta_j \\neq 0$ with (\\ref{eqn:statdist}). From the test results and when choosing a critical probability of $5\\%$, we rejected $(H_0)$ for $\\beta$. Thus, $x$ is found to be significant in explaining $y$.\n",
    "\n",
    "##### Joined significance of the constant and the explanatory variables\n",
    "\n",
    "Assuming 1. to 6., the F-statistic $f \\sim \\mathcal{F}(K-1,n-k)$. Using the OLS results on our dataset, $f=500.60$.\n",
    "\n",
    "Thus, assuming 1. to 6., we can safely test $H_0: \\alpha=\\beta=0$ against $H_1: \\alpha \\neq 0$ or $\\beta \\neq 0$. From the test results and when choosing a critical probability of $5\\%$, we rejected $(H_0)$. Thus, $x$ is found to be significant in explaining $y$.\n",
    "\n",
    "#### Goodness-of-fit\n",
    "\n",
    "The R-squared is defined as $R^2=\\frac{SSE}{SST}$, where $SSE$ and $SST$ are the explained sum of squares and the residual sum of squares respectively. On our dataset, we have $R^2 \\overset{.}{=} 0.59$.\n",
    "\n",
    "The adjusted R-squared is defined as $R_a^2=\\frac{ \\frac{SSE}{n-K} }{ \\frac{SST}{n-1} }$. On our dataset, we have $R_a^2 \\overset{.}{=} 0.59$.\n",
    "\n",
    "In theory, a perfect model is when its R-squared equals $1$. Here, we 'just' have $0.59$, meaning that our OLS estimator is probably not efficient.\n",
    "\n",
    "### OLS assumption(s) violated\n",
    "\n",
    "1. *Linearity in Parameters*. We don't expect it to be violated because we know that the population model can be written as $y=\\beta X + \\epsilon$.\n",
    "2. *Random Sampling*. We don't expect it to be violated because we generated our sample from the population model $y=\\beta X + \\epsilon$.\n",
    "3. *No Perfect Collinearity*. We don't expect it to be violated because we know that $x$ is normally distributed and therefore $x$ is not a constant.\n",
    "4. *Zero Conditional Mean*. We don't expect it to be violated because we know that $\\epsilon|x \\sim \\mathcal{N}(0,x^{2\\gamma})$ and therefore $E[\\epsilon|x]=0$.\n",
    "5. *Homoskedasticity*. We expect it to be violated because here $V(\\epsilon|x) = x^{2\\gamma}$.\n",
    "6. *Normality*. We don't expect it to be violated because we know that $\\epsilon|x \\sim \\mathcal{N}(0,x^{2\\gamma})$ and therefore $\\epsilon|x$ is normally distributed.\n",
    "\n",
    "### Testing for heteroskedasticity\n",
    "\n",
    "Since we expect the assumption 5. to be violated, we use the Breusch-Pagan test with null hypothesis $(H_0): V(\\epsilon|x)=\\sigma^2 I_n$ to verify our expectations."
   ]
  },
  {
   "cell_type": "code",
   "execution_count": 4,
   "id": "2e9c60a8",
   "metadata": {
    "collapsed": true
   },
   "outputs": [
    {
     "name": "stderr",
     "output_type": "stream",
     "text": [
      "Le chargement a nécessité le package : lmtest\n",
      "\n",
      "Le chargement a nécessité le package : zoo\n",
      "\n",
      "\n",
      "Attachement du package : 'zoo'\n",
      "\n",
      "\n",
      "Les objets suivants sont masqués depuis 'package:base':\n",
      "\n",
      "    as.Date, as.Date.numeric\n",
      "\n",
      "\n"
     ]
    }
   ],
   "source": [
    "if (!require(lmtest)) install.packages(\"lmtest\")\n",
    "library(lmtest)"
   ]
  },
  {
   "cell_type": "code",
   "execution_count": 5,
   "id": "746a7a81",
   "metadata": {},
   "outputs": [
    {
     "data": {
      "text/plain": [
       "\n",
       "\tBreusch-Pagan test\n",
       "\n",
       "data:  ols\n",
       "BP = 45.492, df = 1, p-value = 1.533e-11\n"
      ]
     },
     "metadata": {},
     "output_type": "display_data"
    }
   ],
   "source": [
    "bptest(ols, studentize=F)"
   ]
  },
  {
   "cell_type": "markdown",
   "id": "decf1505",
   "metadata": {},
   "source": [
    "Choosing a critical probability of $5\\%$, we reject $(H_0)$ and therefore suspect heteroskedasticity.\n",
    "\n",
    "All interpretations on the estimated standard errors of the estimated coefficients and the tests from the OLS estimation are therefore not reliable, but we can trust the coefficient estimates because we have an unbiased and consistent OLS estimator since assumptions 1. to 4. are not violated.\n",
    "\n",
    "\\**Note: Providing **studentize=False** to the bptest R function run the Breusch-Pagan test while providing **studentize=True** run the Koenker (1981) test. The Breusch-Pagan test assumes that the errors are normally distributed. Please note that we provide **studentize=False** to the bptest R function because we know that the errors are normally distributed. However, in real study cases, it is advised to use the Koenker (1981) test for its greater applicability.*\n",
    "\n",
    "## b)\n",
    "**Reestimate the model using GLS using your knowledge about the $\\Omega$ matrix. State which form the variance-covariance matrix $\\Omega$ takes. Also, please state the form of the weighting matrix $\\Omega^{−1}$. Comment on the results from GLS regression.**\n",
    "\n",
    "Since we know that we have heteroskedasticity, it is more appropriate to apply the GLS estimator than the OLS estimator. In fact, we have $\\epsilon|x \\sim \\mathcal{N}(0,x^{2\\gamma})$ and therefore $V(\\epsilon|x) = x^{2\\gamma}$. Using $\\Omega=\\begin{pmatrix}\n",
    "x_1^{2\\gamma} &  & (0)\\\\\n",
    " & x_i^{2\\gamma} & \\\\\n",
    "(0) &  & x_n^{2\\gamma}\n",
    "\\end{pmatrix}$, the associated GLS estimator is efficient.\n",
    "\n",
    "The GLS estimator is $\\tilde\\beta= (X'\\Omega^{-1}X)^{-1}X'\\Omega^{-1}y$. In order to get $\\Omega^{-1}$, we have to use one of the properties of symmetric positive definite matrices: If $\\Omega \\in \\mathcal{M}_{n,n}(\\mathbb{R})$ is a symmetric positive definite matrix, then there exists $P \\in \\mathcal{T}^{I}_{n,n}(\\mathbb{R})$ such that $P'P=\\Omega^{-1}$, where $\\mathcal{T}^{I}_{n,n}(\\mathbb{R})$ denotes the ensemble of triangular and invertible squared real matrices of size $n$. Since $P$ is invertible, we have $\\Omega=P^{-1} (P')^{-1}$ and therefore:\n",
    "\n",
    "$P=\\begin{pmatrix}\n",
    "\\frac{1}{x_1^{\\gamma}} &  & (0)\\\\\n",
    " & \\frac{1}{x_i^{\\gamma}} & \\\\\n",
    "(0) &  & \\frac{1}{x_n^{\\gamma}}\n",
    "\\end{pmatrix}$ and $\\Omega^{-1}=\\begin{pmatrix}\n",
    "\\frac{1}{x_1^{2\\gamma}} &  & (0)\\\\\n",
    " & \\frac{1}{x_i^{2\\gamma}} & \\\\\n",
    "(0) &  & \\frac{1}{x_n^{2\\gamma}}\n",
    "\\end{pmatrix}$\n",
    "\n"
   ]
  },
  {
   "cell_type": "code",
   "execution_count": 6,
   "id": "cbb8509f",
   "metadata": {},
   "outputs": [
    {
     "data": {
      "text/plain": [
       "\n",
       "Call:\n",
       "lm(formula = y ~ x, weights = w)\n",
       "\n",
       "Weighted Residuals:\n",
       "    Min      1Q  Median      3Q     Max \n",
       "-2.7874 -0.6740  0.0114  0.6596  2.7069 \n",
       "\n",
       "Coefficients:\n",
       "            Estimate Std. Error t value Pr(>|t|)    \n",
       "(Intercept)  4.13764    0.34603   11.96   <2e-16 ***\n",
       "x            0.98760    0.02721   36.29   <2e-16 ***\n",
       "---\n",
       "Signif. codes:  0 '***' 0.001 '**' 0.01 '*' 0.05 '.' 0.1 ' ' 1\n",
       "\n",
       "Residual standard error: 1.012 on 498 degrees of freedom\n",
       "Multiple R-squared:  0.7256,\tAdjusted R-squared:  0.7251 \n",
       "F-statistic:  1317 on 1 and 498 DF,  p-value: < 2.2e-16\n"
      ]
     },
     "metadata": {},
     "output_type": "display_data"
    }
   ],
   "source": [
    "w <- 1 / x**(2*gamma)\n",
    "gls <- lm(y ~ x, weights = w)\n",
    "summary(gls)"
   ]
  },
  {
   "cell_type": "markdown",
   "id": "eca5b388",
   "metadata": {},
   "source": [
    "### Interpretation\n",
    "\n",
    "We follow the same reasoning as question a) but this time considering $\\sigma_i=x_i^\\gamma$ for each $i=1,...,n$ for the tests.\n",
    "\n",
    "#### Estimates\n",
    "\n",
    "Same as question a).\n",
    "\n",
    "#### Hypothesis testing\n",
    "\n",
    "##### Significance of the constant and the explanatory variables\n",
    "\n",
    "From the test results and when choosing a critical probability of $5\\%$, we rejected $(H_0)$ for $\\beta$. Thus, $x$ is found to be significant in explaining $y$.\n",
    "\n",
    "##### Joined significance of the constant and the explanatory variables\n",
    "\n",
    "From the test results and when choosing a critical probability of $5\\%$, we rejected $(H_0)$. Thus, $x$ is found to be significant in explaining $y$.\n",
    "\n",
    "#### Goodness-of-fit\n",
    "\n",
    "We have a better adjusted R-squared of $0.72$ compared to the OLS. Why ? We know that assumptions 1. to 4. are not violated and we corrected the heteroskedasticity with the GLS estimator. Therefore, assumptions 1. to 5. (also known as the Gauss-Markov assumptions) are satistified by the GLS estimator. Thus, the GLS estimator is the Best Linear Unbiased Estimator (BLUE), i.e., it has the minimum variance among the linear and unbiased estimators."
   ]
  },
  {
   "cell_type": "markdown",
   "id": "48937a1d",
   "metadata": {},
   "source": [
    "## c)\n",
    "**Estimate FGLS model for heteroskedasticity of the form $V(\\epsilon_i|x_i)=h(x_i)$ (recall the food expenditure example from seminar 7).**\n",
    "\n",
    "It is great if GLS was always applicable in real-world applications, but it isn't the case. We only use GLS when we have a strong idea of the form of $V(\\epsilon|x)$, which is not often the case. FGLS exists to make GLS feasible. Assuming that we don't have a strong idea of the form of heteroskedasticity, below we apply FGLS."
   ]
  },
  {
   "cell_type": "code",
   "execution_count": 34,
   "id": "b86f0b59",
   "metadata": {},
   "outputs": [
    {
     "data": {
      "text/plain": [
       "\n",
       "Call:\n",
       "lm(formula = y ~ x, weights = 1/w)\n",
       "\n",
       "Weighted Residuals:\n",
       "    Min      1Q  Median      3Q     Max \n",
       "-5.4067 -1.3144 -0.0021  1.2652  5.4899 \n",
       "\n",
       "Coefficients:\n",
       "            Estimate Std. Error t value Pr(>|t|)    \n",
       "(Intercept)  4.46047    0.44124   10.11   <2e-16 ***\n",
       "x            0.96595    0.03329   29.02   <2e-16 ***\n",
       "---\n",
       "Signif. codes:  0 '***' 0.001 '**' 0.01 '*' 0.05 '.' 0.1 ' ' 1\n",
       "\n",
       "Residual standard error: 1.991 on 498 degrees of freedom\n",
       "Multiple R-squared:  0.6283,\tAdjusted R-squared:  0.6276 \n",
       "F-statistic: 841.9 on 1 and 498 DF,  p-value: < 2.2e-16\n"
      ]
     },
     "metadata": {},
     "output_type": "display_data"
    }
   ],
   "source": [
    "ehatsq <- resid(ols)^2\n",
    "sighatsq <- lm(log(ehatsq) ~ x)\n",
    "w <- exp(fitted(sighatsq))\n",
    "fgls <- lm(y ~ x, weights = 1/w)\n",
    "summary(fgls)"
   ]
  },
  {
   "cell_type": "markdown",
   "id": "bf0938dd",
   "metadata": {},
   "source": [
    "You may see that the FGLS estimator has an efficiency slightly lower than the GLS estimator. In our case, we perfectly know the form of the heteroskedasticity. Thus, the GLS with the appropriate variance-covariance matrix is efficient. In this case, FGLS can only be as good as GLS, not more efficient.\n",
    "\n",
    "## d)\n",
    "**In the OLS model, estimate standard errors using White heteroscedasticity consistent estimator. Compare White’s standard errors to those from OLS, GLS, and FGLS.**\n",
    "\n",
    "Under assumptions 1. to 5., conditional on the sample values of the independant variables, \n",
    "\n",
    "\\begin{equation}\n",
    "V(\\hat\\beta^{OLS}_j)=\\frac{\\sigma^2}{SST_j (1-R^2_j)}\n",
    "\\end{equation},\n",
    "\n",
    "where $SST_j=\\sum_{i=1}^n (x_{ij}-\\bar{x}_j)^2$ is the total sample variation in $x_j$ and $R^2_j$ is the R-squared from regressing $x_j$ on all other independant variables (and including an intercept).\n",
    "\n",
    "Now that the variance-covariance matrix is no longer $\\sigma^2 I_n$ but $\\sigma^2 \\Omega$, we would like to estimate:\n",
    "\n",
    "\n",
    "\\begin{equation}\n",
    "V(\\hat\\beta_{OLS})=\\frac{ \\sum_{i=1}^n (x_i-\\bar{x})^2 \\sigma_i^2 }{SST^2_x}\n",
    "\\end{equation},\n",
    "\n",
    "where $SST_x=\\sum_{i=1}^n (x_i-\\bar{x})^2$ is the total sum of squares of the $x_i$.\n",
    "\n",
    "White (1980) showed that a valid estimator of $V(\\hat\\beta_{OLS})$, for heteroskedasticity of any form, is\n",
    "\n",
    "\\begin{equation}\n",
    "\\hat{V}(\\hat\\beta_{OLS})=\\frac{ \\sum_{i=1}^n (x_i-\\bar{x})^2 e^2_i }{SST^2_x}\n",
    "\\end{equation}."
   ]
  },
  {
   "cell_type": "code",
   "execution_count": 8,
   "id": "f175a63a",
   "metadata": {
    "collapsed": true
   },
   "outputs": [
    {
     "name": "stderr",
     "output_type": "stream",
     "text": [
      "Le chargement a nécessité le package : sandwich\n",
      "\n"
     ]
    }
   ],
   "source": [
    "if (!require(sandwich)) install.packages(\"sandwich\")\n",
    "library(sandwich)"
   ]
  },
  {
   "cell_type": "markdown",
   "id": "4e4fd847",
   "metadata": {},
   "source": [
    "### White's heteroskedasticity consistent estimator of estimated coefficient standard errors"
   ]
  },
  {
   "cell_type": "code",
   "execution_count": 9,
   "id": "33531b7d",
   "metadata": {},
   "outputs": [
    {
     "data": {
      "text/html": [
       "<table class=\"dataframe\">\n",
       "<caption>A matrix: 2 × 4 of type dbl</caption>\n",
       "<thead>\n",
       "\t<tr><th scope=col>Coefficient</th><th scope=col>Std. Error</th><th scope=col>t value</th><th scope=col>p-value</th></tr>\n",
       "</thead>\n",
       "<tbody>\n",
       "\t<tr><td>4.6540245</td><td>0.47773791</td><td> 9.741794</td><td> 1.747692e-21</td></tr>\n",
       "\t<tr><td>0.9511643</td><td>0.03683588</td><td>25.821680</td><td>5.153413e-113</td></tr>\n",
       "</tbody>\n",
       "</table>\n"
      ],
      "text/latex": [
       "A matrix: 2 × 4 of type dbl\n",
       "\\begin{tabular}{llll}\n",
       " Coefficient & Std. Error & t value & p-value\\\\\n",
       "\\hline\n",
       "\t 4.6540245 & 0.47773791 &  9.741794 &  1.747692e-21\\\\\n",
       "\t 0.9511643 & 0.03683588 & 25.821680 & 5.153413e-113\\\\\n",
       "\\end{tabular}\n"
      ],
      "text/markdown": [
       "\n",
       "A matrix: 2 × 4 of type dbl\n",
       "\n",
       "| Coefficient | Std. Error | t value | p-value |\n",
       "|---|---|---|---|\n",
       "| 4.6540245 | 0.47773791 |  9.741794 |  1.747692e-21 |\n",
       "| 0.9511643 | 0.03683588 | 25.821680 | 5.153413e-113 |\n",
       "\n"
      ],
      "text/plain": [
       "     Coefficient Std. Error t value   p-value      \n",
       "[1,] 4.6540245   0.47773791  9.741794  1.747692e-21\n",
       "[2,] 0.9511643   0.03683588 25.821680 5.153413e-113"
      ]
     },
     "metadata": {},
     "output_type": "display_data"
    }
   ],
   "source": [
    "cov = vcovHC(ols, type = 'HC') # that where the variances of the beta s are estimated\n",
    "\n",
    "robustsummary <- matrix(0, nrow = 2, ncol = 4)\n",
    "colnames(robustsummary) <- c('Coefficient', 'Std. Error', 't value', 'p-value')\n",
    "robustsummary[, 1] <- coef(ols)\n",
    "robustsummary[, 2] <- sqrt(diag(cov))\n",
    "robustsummary[, 3] <- (robustsummary[, 1] / robustsummary[, 2])\n",
    "robustsummary[, 4]<- 2 * pt(abs(robustsummary[, 3]), 998, lower=FALSE)\n",
    "robustsummary"
   ]
  },
  {
   "cell_type": "markdown",
   "id": "84be24c7",
   "metadata": {},
   "source": [
    "### OLS estimates of estimated coefficient standard errors"
   ]
  },
  {
   "cell_type": "code",
   "execution_count": 10,
   "id": "4d874043",
   "metadata": {},
   "outputs": [
    {
     "data": {
      "text/html": [
       "<table class=\"dataframe\">\n",
       "<caption>A matrix: 2 × 4 of type dbl</caption>\n",
       "<thead>\n",
       "\t<tr><th scope=col>Coefficient</th><th scope=col>Std. Error</th><th scope=col>t value</th><th scope=col>p-value</th></tr>\n",
       "</thead>\n",
       "<tbody>\n",
       "\t<tr><td>4.6540245</td><td>0.5331769</td><td> 8.728856</td><td> 1.065163e-17</td></tr>\n",
       "\t<tr><td>0.9511643</td><td>0.0355861</td><td>26.728537</td><td>3.861579e-119</td></tr>\n",
       "</tbody>\n",
       "</table>\n"
      ],
      "text/latex": [
       "A matrix: 2 × 4 of type dbl\n",
       "\\begin{tabular}{llll}\n",
       " Coefficient & Std. Error & t value & p-value\\\\\n",
       "\\hline\n",
       "\t 4.6540245 & 0.5331769 &  8.728856 &  1.065163e-17\\\\\n",
       "\t 0.9511643 & 0.0355861 & 26.728537 & 3.861579e-119\\\\\n",
       "\\end{tabular}\n"
      ],
      "text/markdown": [
       "\n",
       "A matrix: 2 × 4 of type dbl\n",
       "\n",
       "| Coefficient | Std. Error | t value | p-value |\n",
       "|---|---|---|---|\n",
       "| 4.6540245 | 0.5331769 |  8.728856 |  1.065163e-17 |\n",
       "| 0.9511643 | 0.0355861 | 26.728537 | 3.861579e-119 |\n",
       "\n"
      ],
      "text/plain": [
       "     Coefficient Std. Error t value   p-value      \n",
       "[1,] 4.6540245   0.5331769   8.728856  1.065163e-17\n",
       "[2,] 0.9511643   0.0355861  26.728537 3.861579e-119"
      ]
     },
     "metadata": {},
     "output_type": "display_data"
    }
   ],
   "source": [
    "olssummary <- matrix(0, nrow = 2, ncol = 4)\n",
    "colnames(olssummary) <- c('Coefficient', 'Std. Error', 't value', 'p-value')\n",
    "olssummary[, 1] <- coef(ols)\n",
    "olssummary[, 2] <- sqrt(diag(vcov(ols)))\n",
    "olssummary[, 3] <- (olssummary[, 1] / olssummary[, 2])\n",
    "olssummary[, 4]<- 2 * pt(abs(olssummary[, 3]), 998, lower=FALSE)\n",
    "olssummary"
   ]
  },
  {
   "cell_type": "markdown",
   "id": "d5fd2ed9",
   "metadata": {},
   "source": [
    "### GLS estimates of estimated coefficient standard errors"
   ]
  },
  {
   "cell_type": "code",
   "execution_count": 11,
   "id": "295e4d95",
   "metadata": {},
   "outputs": [
    {
     "data": {
      "text/html": [
       "<table class=\"dataframe\">\n",
       "<caption>A matrix: 2 × 4 of type dbl</caption>\n",
       "<thead>\n",
       "\t<tr><th scope=col>Coefficient</th><th scope=col>Std. Error</th><th scope=col>t value</th><th scope=col>p-value</th></tr>\n",
       "</thead>\n",
       "<tbody>\n",
       "\t<tr><td>4.1376432</td><td>0.34603419</td><td>11.95732</td><td> 6.841397e-31</td></tr>\n",
       "\t<tr><td>0.9875986</td><td>0.02721278</td><td>36.29172</td><td>1.483483e-184</td></tr>\n",
       "</tbody>\n",
       "</table>\n"
      ],
      "text/latex": [
       "A matrix: 2 × 4 of type dbl\n",
       "\\begin{tabular}{llll}\n",
       " Coefficient & Std. Error & t value & p-value\\\\\n",
       "\\hline\n",
       "\t 4.1376432 & 0.34603419 & 11.95732 &  6.841397e-31\\\\\n",
       "\t 0.9875986 & 0.02721278 & 36.29172 & 1.483483e-184\\\\\n",
       "\\end{tabular}\n"
      ],
      "text/markdown": [
       "\n",
       "A matrix: 2 × 4 of type dbl\n",
       "\n",
       "| Coefficient | Std. Error | t value | p-value |\n",
       "|---|---|---|---|\n",
       "| 4.1376432 | 0.34603419 | 11.95732 |  6.841397e-31 |\n",
       "| 0.9875986 | 0.02721278 | 36.29172 | 1.483483e-184 |\n",
       "\n"
      ],
      "text/plain": [
       "     Coefficient Std. Error t value  p-value      \n",
       "[1,] 4.1376432   0.34603419 11.95732  6.841397e-31\n",
       "[2,] 0.9875986   0.02721278 36.29172 1.483483e-184"
      ]
     },
     "metadata": {},
     "output_type": "display_data"
    }
   ],
   "source": [
    "glssummary <- matrix(0, nrow = 2, ncol = 4)\n",
    "colnames(glssummary) <- c('Coefficient', 'Std. Error', 't value', 'p-value')\n",
    "glssummary[, 1] <- coef(gls)\n",
    "glssummary[, 2] <- sqrt(diag(vcov(gls)))\n",
    "glssummary[, 3] <- (glssummary[, 1] / glssummary[, 2])\n",
    "glssummary[, 4]<- 2 * pt(abs(glssummary[, 3]), 998, lower=FALSE)\n",
    "glssummary"
   ]
  },
  {
   "cell_type": "markdown",
   "id": "73e45bc9",
   "metadata": {},
   "source": [
    "### FGLS estimates of estimated coefficient standard errors"
   ]
  },
  {
   "cell_type": "code",
   "execution_count": 12,
   "id": "7b9d219b",
   "metadata": {},
   "outputs": [
    {
     "data": {
      "text/html": [
       "<table class=\"dataframe\">\n",
       "<caption>A matrix: 2 × 4 of type dbl</caption>\n",
       "<thead>\n",
       "\t<tr><th scope=col>Coefficient</th><th scope=col>Std. Error</th><th scope=col>t value</th><th scope=col>p-value</th></tr>\n",
       "</thead>\n",
       "<tbody>\n",
       "\t<tr><td>4.4604707</td><td>0.44123865</td><td>12.89026</td><td> 2.808524e-35</td></tr>\n",
       "\t<tr><td>0.9659513</td><td>0.03329118</td><td>35.49624</td><td>3.873694e-179</td></tr>\n",
       "</tbody>\n",
       "</table>\n"
      ],
      "text/latex": [
       "A matrix: 2 × 4 of type dbl\n",
       "\\begin{tabular}{llll}\n",
       " Coefficient & Std. Error & t value & p-value\\\\\n",
       "\\hline\n",
       "\t 4.4604707 & 0.44123865 & 12.89026 &  2.808524e-35\\\\\n",
       "\t 0.9659513 & 0.03329118 & 35.49624 & 3.873694e-179\\\\\n",
       "\\end{tabular}\n"
      ],
      "text/markdown": [
       "\n",
       "A matrix: 2 × 4 of type dbl\n",
       "\n",
       "| Coefficient | Std. Error | t value | p-value |\n",
       "|---|---|---|---|\n",
       "| 4.4604707 | 0.44123865 | 12.89026 |  2.808524e-35 |\n",
       "| 0.9659513 | 0.03329118 | 35.49624 | 3.873694e-179 |\n",
       "\n"
      ],
      "text/plain": [
       "     Coefficient Std. Error t value  p-value      \n",
       "[1,] 4.4604707   0.44123865 12.89026  2.808524e-35\n",
       "[2,] 0.9659513   0.03329118 35.49624 3.873694e-179"
      ]
     },
     "metadata": {},
     "output_type": "display_data"
    }
   ],
   "source": [
    "fglssummary <- matrix(0, nrow = 2, ncol = 4)\n",
    "colnames(fglssummary) <- c('Coefficient', 'Std. Error', 't value', 'p-value')\n",
    "fglssummary[, 1] <- coef(fgls)\n",
    "fglssummary[, 2] <- sqrt(diag(vcov(fgls)))\n",
    "fglssummary[, 3] <- (fglssummary[, 1] / glssummary[, 2])\n",
    "fglssummary[, 4]<- 2 * pt(abs(fglssummary[, 3]), 998, lower=FALSE)\n",
    "fglssummary"
   ]
  },
  {
   "cell_type": "markdown",
   "id": "68ad2b6c",
   "metadata": {},
   "source": [
    "As said before, the variances of the OLS estimates are not valid/reliable. Comparing the estimated coefficient standard errors from the White consistent estimator and the (F)GLS estimators, the GLS estimator is the most efficient one which is in line with the outcome of the Gauss-Markov theorem.\n",
    "\n",
    "\n",
    "# Problem 2\n",
    "\n",
    "\n",
    "Please use the data in the **plm** R package with the next R command to answer following questions. Estimate your models based on specification\n",
    "\n",
    "\\begin{equation}\n",
    "    lwage_{it}= \\beta_0 + \\beta_1 exp_{it} + \\beta_2 exp^2_{it} + \\beta_3 sex_{it} + \\beta_4 ed_{it} + \\beta_5 south_{it} + \\beta_6 smsa_{it} + \\beta_7 black_{it} + u_{it}\n",
    "\\end{equation},\n",
    "\n",
    "where $i$ is indicated by *id* variable, $t$ is indicated by *time* variable. The dependent variable is natural logarithm of wage, *exp* indicates working experience, *ed* indicates years of education, *smsa* is a dummy variable for individuals living in urban areas, *sex* is a dummy variable indicating female workers.\n",
    "  \n",
    "**Your task is to find out, whether education is a significant determinant of wages. Please use the standard panel estimation methods (Pooled OLS, Fixed Effects, and Random effects models), and perform all the necessary tests. For each estimator, state the conditions under which it is valid. What are your conclusions? What additional estimation would you suggest?**\n",
    "\n",
    "\n",
    "Let's first recall the assumptions for each of the listed models for Panel Data.\n",
    "\n",
    "**Pooled OLS**\n",
    "\n",
    "Same as Problem 1.\n",
    "\n",
    "**Fixed Effects Model**\n",
    "\n",
    "1. For each $i$, the model is $y_{it} = \\beta_1 x^1_{it} + ... + \\beta_k x^k_{it}$, $t = 1,...,T$,\n",
    "where the $\\beta_j$ are the parameters to estimate and $a_i$ is the unobserved effect.\n",
    "2. We have a random sample from the cross section.\n",
    "3. Each explanatory variable changes over time (for at least some i ), and no perfect linear relationships exist among the explanatory variables.\n",
    "4. For each $t$, the expected value of the idiosyncratic error given the explanatory variables in all time periods and the unobserved effect is zero: $E(u_{it} | X_i,a_i) = 0$.\n",
    "5. $V(u_{it} | X_i,ai) = Var(u_{it}) = \\sigma^2_u$, for all $t = 1,...,T$.\n",
    "6. For all $t \\neq s$, the idiosyncratic errors are uncorrelated (conditional on all explanatory variables and $a_i$): $Cov(u_{it},u_{is} | X_i, a_i) = 0$.\n",
    "7. Conditional on $X_i$ and $a_i$, the $u_{it}$ are independent and identically distributed as $\\mathcal{N}(0,\\sigma_u^2)$.\n",
    "\n",
    "Under 1. to 4., the Fixed Effects (FE) estimator is unbiaised. Under 1. to 4., the FE estimator is consistent as long as $T$ is fixed as $N \\rightarrow \\infty$.\n",
    "\n",
    "Under 1. to 6., the FE estimator is BLUE.\n",
    "\n",
    "Under 1. to 7., the t and F statistics have exact t and F distributions. Without 7., we can rely on asymptotic approximations as long as $N$ is large and $T$ is small.\n",
    "\n",
    "\n",
    "**Random Effects Model**\n",
    "\n",
    "1. For each $i$, the model is $y_{it} = \\beta_1 x^1_{it} + ... + \\beta_k x^k_{it}$, $t = 1,...,T$,\n",
    "where the $\\beta_j$ are the parameters to estimate and $a_i$ is the unobserved effect.\n",
    "2. We have a random sample from the cross section.\n",
    "3. There are no perfect linear relationships among the explanatory variables. The cost of allowing time-constant regressors is that we must add assumptions about how the unobserved effect, $a_i$, is related to the explanatory variables.\n",
    "4. $E(u_{it} | X_i,a_i) = 0$ and, the expected value of $a_i$ given all explanatory variables is constant: $E(a_i|X_i) =\\beta_0$.\n",
    "5. $V(u_{it} | X_i,ai) = Var(u_{it}) = \\sigma^2_u$, for all $t = 1,...,T$, and FE.5, the variance of ai given all explanatory variables is constant: $V(a_i | X_i)=\\sigma_a^2$.\n",
    "6. For all $t \\neq s$, the idiosyncratic errors are uncorrelated (conditional on all explanatory variables and $a_i$): $Cov(u_{it},u_{is} | X_i, a_i) = 0$.\n",
    "\n",
    "Under 1. to 4., the RE estimator is consistent and asymptotically normally distributed as $N$ gets large for fixed $T$.\n",
    "\n",
    "Under 1. to 6., the RE standard errors and test statistics are valid. Also, the RE estimators are asymptotically efficient.\n",
    "\n",
    "\n",
    "We first load the data."
   ]
  },
  {
   "cell_type": "code",
   "execution_count": 13,
   "id": "47f2b3d2",
   "metadata": {
    "collapsed": true
   },
   "outputs": [
    {
     "name": "stderr",
     "output_type": "stream",
     "text": [
      "Le chargement a nécessité le package : plm\n",
      "\n"
     ]
    }
   ],
   "source": [
    "if (!require(plm)) install.packages(\"plm\")\n",
    "\n",
    "library(plm)\n",
    "data(\"Wages\", package = \"plm\")\n",
    "Wag <- pdata.frame(Wages, index=595)"
   ]
  },
  {
   "cell_type": "markdown",
   "id": "1926da28",
   "metadata": {},
   "source": [
    "The first step in any modelling problem is to analyze the data. Let's see a summary of the data."
   ]
  },
  {
   "cell_type": "code",
   "execution_count": 14,
   "id": "9e00d98f",
   "metadata": {},
   "outputs": [
    {
     "data": {
      "text/plain": [
       "      exp             wks        bluecol         ind         south     \n",
       " Min.   : 1.00   Min.   : 5.00   no :2036   Min.   :0.0000   no :2956  \n",
       " 1st Qu.:11.00   1st Qu.:46.00   yes:2129   1st Qu.:0.0000   yes:1209  \n",
       " Median :18.00   Median :48.00              Median :0.0000             \n",
       " Mean   :19.85   Mean   :46.81              Mean   :0.3954             \n",
       " 3rd Qu.:29.00   3rd Qu.:50.00              3rd Qu.:1.0000             \n",
       " Max.   :51.00   Max.   :52.00              Max.   :1.0000             \n",
       "                                                                       \n",
       "  smsa      married        sex       union            ed        black     \n",
       " no :1442   no : 773   male  :3696   no :2649   Min.   : 4.00   no :3864  \n",
       " yes:2723   yes:3392   female: 469   yes:1516   1st Qu.:12.00   yes: 301  \n",
       "                                                Median :12.00             \n",
       "                                                Mean   :12.85             \n",
       "                                                3rd Qu.:16.00             \n",
       "                                                Max.   :17.00             \n",
       "                                                                          \n",
       "     lwage             id       time   \n",
       " Min.   :4.605   1      :   7   1:595  \n",
       " 1st Qu.:6.395   2      :   7   2:595  \n",
       " Median :6.685   3      :   7   3:595  \n",
       " Mean   :6.676   4      :   7   4:595  \n",
       " 3rd Qu.:6.953   5      :   7   5:595  \n",
       " Max.   :8.537   6      :   7   6:595  \n",
       "                 (Other):4123   7:595  "
      ]
     },
     "metadata": {},
     "output_type": "display_data"
    }
   ],
   "source": [
    "summary(Wag)"
   ]
  },
  {
   "cell_type": "markdown",
   "id": "65ccf539",
   "metadata": {},
   "source": [
    "Let's see if there are differences across time."
   ]
  },
  {
   "cell_type": "code",
   "execution_count": 15,
   "id": "4adfec25",
   "metadata": {},
   "outputs": [
    {
     "data": {
      "image/png": "[encoded data removed]",
      "text/plain": [
       "plot without title"
      ]
     },
     "metadata": {
      "image/png": {
       "height": 420,
       "width": 420
      }
     },
     "output_type": "display_data"
    }
   ],
   "source": [
    "coplot(lwage ~ id|time, data = Wag)"
   ]
  },
  {
   "cell_type": "markdown",
   "id": "d798bdfb",
   "metadata": {},
   "source": [
    "First you use the Pooled OLS estimator because that's the first model you may think about."
   ]
  },
  {
   "cell_type": "code",
   "execution_count": 16,
   "id": "0f253a54",
   "metadata": {},
   "outputs": [
    {
     "data": {
      "text/plain": [
       "Pooling Model\n",
       "\n",
       "Call:\n",
       "plm(formula = lwage ~ exp + I(exp^2) + sex + ed + south + smsa + \n",
       "    black, data = Wag, model = \"pooling\", index = c(\"id\", \"time\"))\n",
       "\n",
       "Balanced Panel: n = 595, T = 7, N = 4165\n",
       "\n",
       "Residuals:\n",
       "      Min.    1st Qu.     Median    3rd Qu.       Max. \n",
       "-2.2121430 -0.2328048 -0.0021319  0.2340662  2.0421768 \n",
       "\n",
       "Coefficients:\n",
       "               Estimate  Std. Error  t-value  Pr(>|t|)    \n",
       "(Intercept)  5.3293e+00  3.6005e-02 148.0148 < 2.2e-16 ***\n",
       "exp          4.2775e-02  2.1752e-03  19.6642 < 2.2e-16 ***\n",
       "I(exp^2)    -7.2209e-04  4.7965e-05 -15.0544 < 2.2e-16 ***\n",
       "sexfemale   -4.2420e-01  1.7978e-02 -23.5953 < 2.2e-16 ***\n",
       "ed           6.5286e-02  2.0955e-03  31.1553 < 2.2e-16 ***\n",
       "southyes    -6.9485e-02  1.2436e-02  -5.5874 2.452e-08 ***\n",
       "smsayes      1.7062e-01  1.2094e-02  14.1077 < 2.2e-16 ***\n",
       "blackyes    -1.8012e-01  2.2220e-02  -8.1063 6.802e-16 ***\n",
       "---\n",
       "Signif. codes:  0 '***' 0.001 '**' 0.01 '*' 0.05 '.' 0.1 ' ' 1\n",
       "\n",
       "Total Sum of Squares:    886.9\n",
       "Residual Sum of Squares: 524.21\n",
       "R-Squared:      0.40894\n",
       "Adj. R-Squared: 0.40795\n",
       "F-statistic: 410.883 on 7 and 4157 DF, p-value: < 2.22e-16"
      ]
     },
     "metadata": {},
     "output_type": "display_data"
    }
   ],
   "source": [
    "pols = plm(\n",
    "    lwage~exp+I(exp**2)+sex+ed+south+smsa+black,\n",
    "    index=c('id','time'), model=\"pooling\", data=Wag)\n",
    "summary(pols)"
   ]
  },
  {
   "cell_type": "markdown",
   "id": "c559e8e3",
   "metadata": {},
   "source": [
    "Then, you think maybe there is heteroskedasticity among individuals. So, you run the robust standard error estimates for statistical inference."
   ]
  },
  {
   "cell_type": "code",
   "execution_count": 17,
   "id": "02fb6a3d",
   "metadata": {},
   "outputs": [
    {
     "data": {
      "text/plain": [
       "\n",
       "t test of coefficients:\n",
       "\n",
       "               Estimate  Std. Error  t value  Pr(>|t|)    \n",
       "(Intercept)  5.3293e+00  7.9804e-02  66.7806 < 2.2e-16 ***\n",
       "exp          4.2775e-02  4.3314e-03   9.8756 < 2.2e-16 ***\n",
       "I(exp^2)    -7.2209e-04  9.8662e-05  -7.3188 2.987e-13 ***\n",
       "sexfemale   -4.2420e-01  3.1539e-02 -13.4498 < 2.2e-16 ***\n",
       "ed           6.5286e-02  4.7120e-03  13.8555 < 2.2e-16 ***\n",
       "southyes    -6.9485e-02  2.6680e-02  -2.6044  0.009238 ** \n",
       "smsayes      1.7062e-01  2.5507e-02   6.6893 2.540e-11 ***\n",
       "blackyes    -1.8012e-01  4.5735e-02  -3.9383 8.340e-05 ***\n",
       "---\n",
       "Signif. codes:  0 '***' 0.001 '**' 0.01 '*' 0.05 '.' 0.1 ' ' 1\n"
      ]
     },
     "metadata": {},
     "output_type": "display_data"
    }
   ],
   "source": [
    "coeftest(pols, vcov = vcovHC(pols, type = \"HC0\", cluster = \"group\"))"
   ]
  },
  {
   "cell_type": "markdown",
   "id": "64ed032a",
   "metadata": {},
   "source": [
    "But, now that you think more about the problem and you may wonder if there are unobserved effects. If so, the Pooled OLS estimator is inconsistent. Thus you use the F-test to test the presence of unobserved effects."
   ]
  },
  {
   "cell_type": "code",
   "execution_count": 18,
   "id": "ce45de61",
   "metadata": {},
   "outputs": [
    {
     "data": {
      "text/plain": [
       "Oneway (individual) effect Within Model\n",
       "\n",
       "Call:\n",
       "plm(formula = lwage ~ exp + I(exp^2) + sex + ed + south + smsa + \n",
       "    black, data = Wag, effect = \"individual\", model = \"within\", \n",
       "    index = c(\"id\", \"time\"))\n",
       "\n",
       "Balanced Panel: n = 595, T = 7, N = 4165\n",
       "\n",
       "Residuals:\n",
       "      Min.    1st Qu.     Median    3rd Qu.       Max. \n",
       "-1.8120080 -0.0504228  0.0039655  0.0607171  1.9430322 \n",
       "\n",
       "Coefficients:\n",
       "            Estimate  Std. Error t-value  Pr(>|t|)    \n",
       "exp       1.1380e-01  2.4655e-03 46.1575 < 2.2e-16 ***\n",
       "I(exp^2) -4.2839e-04  5.4499e-05 -7.8605 5.026e-15 ***\n",
       "southyes  5.3877e-03  3.4186e-02  0.1576   0.87478    \n",
       "smsayes  -4.3365e-02  1.9399e-02 -2.2354   0.02546 *  \n",
       "---\n",
       "Signif. codes:  0 '***' 0.001 '**' 0.01 '*' 0.05 '.' 0.1 ' ' 1\n",
       "\n",
       "Total Sum of Squares:    240.65\n",
       "Residual Sum of Squares: 82.562\n",
       "R-Squared:      0.65692\n",
       "Adj. R-Squared: 0.59939\n",
       "F-statistic: 1707.05 on 4 and 3566 DF, p-value: < 2.22e-16"
      ]
     },
     "metadata": {},
     "output_type": "display_data"
    }
   ],
   "source": [
    "fem = plm(\n",
    "    lwage~exp+I(exp**2)+sex+ed+south+smsa+black,\n",
    "    index=c('id','time'), model=\"within\", effect = 'individual', data=Wag)\n",
    "summary(fem)"
   ]
  },
  {
   "cell_type": "code",
   "execution_count": 19,
   "id": "92278476",
   "metadata": {},
   "outputs": [
    {
     "data": {
      "text/plain": [
       "\n",
       "\tF test for individual effects\n",
       "\n",
       "data:  lwage ~ exp + I(exp^2) + sex + ed + south + smsa + black\n",
       "F = 32.277, df1 = 591, df2 = 3566, p-value < 2.2e-16\n",
       "alternative hypothesis: significant effects\n"
      ]
     },
     "metadata": {},
     "output_type": "display_data"
    }
   ],
   "source": [
    "pFtest(fem, pols)"
   ]
  },
  {
   "cell_type": "markdown",
   "id": "53abc18f",
   "metadata": {},
   "source": [
    "We reject the null hypothesis of no significant individual effect for a critical probability of 5\\%.\n",
    "\n",
    "But now, you don't know whether this unobserved effect is correlated or not to the disturbances. In other words, you don't know whether you should use the Fixed Effects (FE) model or the Random Effects (RE) model. So you use the Hausman type test to test for random effects. The null hypothesis $(H_0)$ is that the unobserved effects are exogeneous (i.e., $Cov(x_{itj},a_i)=0$, $t=1,...,T$, $j=1,...,k$)."
   ]
  },
  {
   "cell_type": "code",
   "execution_count": 20,
   "id": "2a453d94",
   "metadata": {},
   "outputs": [
    {
     "data": {
      "text/plain": [
       "Oneway (individual) effect Random Effect Model \n",
       "   (Swamy-Arora's transformation)\n",
       "\n",
       "Call:\n",
       "plm(formula = lwage ~ exp + I(exp^2) + sex + ed + south + smsa + \n",
       "    black, data = Wag, model = \"random\", index = c(\"id\", \"time\"))\n",
       "\n",
       "Balanced Panel: n = 595, T = 7, N = 4165\n",
       "\n",
       "Effects:\n",
       "                  var std.dev share\n",
       "idiosyncratic 0.02315 0.15216 0.239\n",
       "individual    0.07386 0.27176 0.761\n",
       "theta: 0.793\n",
       "\n",
       "Residuals:\n",
       "      Min.    1st Qu.     Median    3rd Qu.       Max. \n",
       "-2.0620658 -0.1147357  0.0083296  0.1202484  2.0863357 \n",
       "\n",
       "Coefficients:\n",
       "               Estimate  Std. Error  z-value  Pr(>|z|)    \n",
       "(Intercept)  4.16329227  0.08165324  50.9875 < 2.2e-16 ***\n",
       "exp          0.08377489  0.00284146  29.4830 < 2.2e-16 ***\n",
       "I(exp^2)    -0.00081571  0.00006273 -13.0033 < 2.2e-16 ***\n",
       "sexfemale   -0.27605996  0.04819024  -5.7285 1.013e-08 ***\n",
       "ed           0.10348971  0.00550150  18.8112 < 2.2e-16 ***\n",
       "southyes    -0.01686609  0.02677860  -0.6298 0.5288027    \n",
       "smsayes     -0.01421970  0.02006775  -0.7086 0.4785822    \n",
       "blackyes    -0.20309171  0.05940168  -3.4190 0.0006286 ***\n",
       "---\n",
       "Signif. codes:  0 '***' 0.001 '**' 0.01 '*' 0.05 '.' 0.1 ' ' 1\n",
       "\n",
       "Total Sum of Squares:    268.35\n",
       "Residual Sum of Squares: 163.2\n",
       "R-Squared:      0.39185\n",
       "Adj. R-Squared: 0.39083\n",
       "Chisq: 2678.52 on 7 DF, p-value: < 2.22e-16"
      ]
     },
     "metadata": {},
     "output_type": "display_data"
    }
   ],
   "source": [
    "rem = plm(\n",
    "    lwage~exp+I(exp**2)+sex+ed+south+smsa+black,\n",
    "    index=c('id','time'), model=\"random\", data=Wag)\n",
    "summary(rem)"
   ]
  },
  {
   "cell_type": "code",
   "execution_count": 21,
   "id": "fb44b9c0",
   "metadata": {},
   "outputs": [
    {
     "data": {
      "text/plain": [
       "\n",
       "\tHausman Test\n",
       "\n",
       "data:  lwage ~ exp + I(exp^2) + sex + ed + south + smsa + black\n",
       "chisq = 5347.6, df = 4, p-value < 2.2e-16\n",
       "alternative hypothesis: one model is inconsistent\n"
      ]
     },
     "metadata": {},
     "output_type": "display_data"
    }
   ],
   "source": [
    "phtest(fem, rem)"
   ]
  },
  {
   "cell_type": "markdown",
   "id": "849ab943",
   "metadata": {},
   "source": [
    "Rejecting $(H_0)$ implies that it is better to use the FE model. A failure to reject $(H_0)$ means that you can use both FE and RE models.\n",
    "\n",
    "Here, $(H_0)$ is strongly rejected for any critical probability greater than $10^{-15}$ implying that we should use the FE model.\n",
    "\n",
    "Thus, you come back to the results of the FE model and look for the coefficient of the education (*ed*). It is not there, why ? Because the education is constant over time for all individuals in the dataset. As a result, the FE model removes it, it is his job. Now you wonder how you could get the estimated coefficient of the education and you think about the Hausman-Taylor estimator from Seminar 9."
   ]
  },
  {
   "cell_type": "code",
   "execution_count": 22,
   "id": "47a13bb9",
   "metadata": {},
   "outputs": [
    {
     "name": "stderr",
     "output_type": "stream",
     "text": [
      "Warning message:\n",
      "\"uses of 'pht()' and 'plm(., model = \"ht\")' are discouraged, better use 'plm(., model = \"random\", random.method = \"ht\", inst.method = \"baltagi\"/\"am\"/\"bms\")' for Hausman-Taylor, Amemiya-MaCurdy, and Breusch-Mizon-Schmidt estimator\"\n"
     ]
    },
    {
     "data": {
      "text/plain": [
       "Oneway (individual) effect Hausman-Taylor Model \n",
       "(Hausman-Taylor estimator) \n",
       "\n",
       "Call:\n",
       "pht(formula = lwage ~ ed + exp + I(exp^2) + smsa + union + black | \n",
       "    exp + I(exp^2) + union + black, data = Wag, index = c(\"id\", \n",
       "    \"time\"))\n",
       "\n",
       "T.V. exo  : exp, I(exp^2), union\n",
       "T.V. endo : smsa\n",
       "T.I. exo  : black\n",
       "T.I. endo : ed\n",
       "\n",
       "Balanced Panel: n = 595, T = 7, N = 4165\n",
       "\n",
       "Effects:\n",
       "                 var std.dev share\n",
       "idiosyncratic 0.0231  0.1520 0.008\n",
       "individual    2.9886  1.7288 0.992\n",
       "theta: 0.9668\n",
       "\n",
       "Residuals:\n",
       "      Min.    1st Qu.     Median    3rd Qu.       Max. \n",
       "-1.9374390 -0.0633492  0.0098038  0.0757407  1.9865139 \n",
       "\n",
       "Coefficients:\n",
       "               Estimate  Std. Error z-value  Pr(>|z|)    \n",
       "(Intercept) -3.40998053  0.96164159 -3.5460 0.0003911 ***\n",
       "ed           0.62823847  0.07386769  8.5049 < 2.2e-16 ***\n",
       "exp          0.11264964  0.00243720 46.2210 < 2.2e-16 ***\n",
       "I(exp^2)    -0.00044269  0.00005386 -8.2193 < 2.2e-16 ***\n",
       "smsayes     -0.04612503  0.01915121 -2.4085 0.0160197 *  \n",
       "unionyes     0.03984787  0.01465959  2.7182 0.0065636 ** \n",
       "blackyes     0.32127395  0.28799381  1.1156 0.2646112    \n",
       "---\n",
       "Signif. codes:  0 '***' 0.001 '**' 0.01 '*' 0.05 '.' 0.1 ' ' 1\n",
       "\n",
       "Total Sum of Squares:    886.9\n",
       "Residual Sum of Squares: 94.694\n",
       "Chisq: 6843.81 on 6 DF, p-value: < 2.22e-16"
      ]
     },
     "metadata": {},
     "output_type": "display_data"
    }
   ],
   "source": [
    "ht = plm(\n",
    "    lwage~ed + exp + I(exp^2) + smsa + union + black |\n",
    "          exp + I(exp^2) + union + black,\n",
    "    index=c('id','time'), model=\"ht\", data=Wag\n",
    ")\n",
    "summary(ht)"
   ]
  },
  {
   "cell_type": "markdown",
   "id": "08aa1dc3",
   "metadata": {},
   "source": [
    "This time, you have the estimated coefficient for education and your task was to tell whether education is a significant determinant of wages. Looking at the results from the Hausman-Taylor estimator, the null hypothesis $(H_0): \\beta_{ed}=0$ is strongly rejected for a critical probability of $5\\%$. Therefore, education is a significant determinant of wages.\n",
    "\n",
    "# Problem 3\n",
    "\n",
    "Please use the data in the **plm** R package, and create a subsample containing all individuals for the second year of observation (i.e., *time*=2). Hence, you should estimate a model of following specification on a cross-sectional subsample:\n",
    "\n",
    "\\begin{eqnarray*}\n",
    "   ln(wage_i)= \\beta_0 + \\beta_1 ed_i + \\beta_2 smsa_i + \\beta_3 black_i + u_i.\n",
    "\\end{eqnarray*}\n",
    "\n",
    "**Test for the group specific heteroskedasticity based on the outcome of *black* variable. Construct an FGLS estimator efficient in presence of such relationship. Remember Seminar 7.**\n",
    "\n",
    "First we select the corresponding observations in the requested year (i.e., when *time*=2) and make sure that the variables are in the correct format. The first rows of the subsample are show below."
   ]
  },
  {
   "cell_type": "code",
   "execution_count": 23,
   "id": "f4fdbb57",
   "metadata": {},
   "outputs": [
    {
     "data": {
      "text/html": [
       "<table class=\"dataframe\">\n",
       "<caption>A data.frame: 6 × 4</caption>\n",
       "<thead>\n",
       "\t<tr><th></th><th scope=col>lwage</th><th scope=col>ed</th><th scope=col>smsa</th><th scope=col>black</th></tr>\n",
       "\t<tr><th></th><th scope=col>&lt;dbl&gt;</th><th scope=col>&lt;dbl&gt;</th><th scope=col>&lt;fct&gt;</th><th scope=col>&lt;fct&gt;</th></tr>\n",
       "</thead>\n",
       "<tbody>\n",
       "\t<tr><th scope=row>1</th><td>5.72031</td><td> 9</td><td>no </td><td>no </td></tr>\n",
       "\t<tr><th scope=row>2</th><td>6.21461</td><td>11</td><td>no </td><td>no </td></tr>\n",
       "\t<tr><th scope=row>3</th><td>6.43615</td><td>12</td><td>no </td><td>no </td></tr>\n",
       "\t<tr><th scope=row>4</th><td>6.23832</td><td>10</td><td>yes</td><td>yes</td></tr>\n",
       "\t<tr><th scope=row>5</th><td>6.62007</td><td>16</td><td>no </td><td>no </td></tr>\n",
       "\t<tr><th scope=row>6</th><td>6.90575</td><td>12</td><td>yes</td><td>no </td></tr>\n",
       "</tbody>\n",
       "</table>\n"
      ],
      "text/latex": [
       "A data.frame: 6 × 4\n",
       "\\begin{tabular}{r|llll}\n",
       "  & lwage & ed & smsa & black\\\\\n",
       "  & <dbl> & <dbl> & <fct> & <fct>\\\\\n",
       "\\hline\n",
       "\t1 & 5.72031 &  9 & no  & no \\\\\n",
       "\t2 & 6.21461 & 11 & no  & no \\\\\n",
       "\t3 & 6.43615 & 12 & no  & no \\\\\n",
       "\t4 & 6.23832 & 10 & yes & yes\\\\\n",
       "\t5 & 6.62007 & 16 & no  & no \\\\\n",
       "\t6 & 6.90575 & 12 & yes & no \\\\\n",
       "\\end{tabular}\n"
      ],
      "text/markdown": [
       "\n",
       "A data.frame: 6 × 4\n",
       "\n",
       "| <!--/--> | lwage &lt;dbl&gt; | ed &lt;dbl&gt; | smsa &lt;fct&gt; | black &lt;fct&gt; |\n",
       "|---|---|---|---|---|\n",
       "| 1 | 5.72031 |  9 | no  | no  |\n",
       "| 2 | 6.21461 | 11 | no  | no  |\n",
       "| 3 | 6.43615 | 12 | no  | no  |\n",
       "| 4 | 6.23832 | 10 | yes | yes |\n",
       "| 5 | 6.62007 | 16 | no  | no  |\n",
       "| 6 | 6.90575 | 12 | yes | no  |\n",
       "\n"
      ],
      "text/plain": [
       "  lwage   ed smsa black\n",
       "1 5.72031  9 no   no   \n",
       "2 6.21461 11 no   no   \n",
       "3 6.43615 12 no   no   \n",
       "4 6.23832 10 yes  yes  \n",
       "5 6.62007 16 no   no   \n",
       "6 6.90575 12 yes  no   "
      ]
     },
     "metadata": {},
     "output_type": "display_data"
    }
   ],
   "source": [
    "fixed_year = 2\n",
    "swages = Wag[Wag$time==fixed_year,c('lwage','ed','smsa','black')]\n",
    "swages<-data.frame(swages)\n",
    "numcols <- c('lwage','ed'); faccols <- c('smsa','black')\n",
    "swages[numcols] <- lapply(swages[numcols], FUN=as.numeric)\n",
    "swages[faccols] <- lapply(swages[faccols], FUN=as.factor)\n",
    "\n",
    "head(swages)"
   ]
  },
  {
   "cell_type": "markdown",
   "id": "1d15ec64",
   "metadata": {},
   "source": [
    "Below a summary of the subsample. It is highly recommanded to have at least an overview of the data."
   ]
  },
  {
   "cell_type": "code",
   "execution_count": 24,
   "id": "204d8080",
   "metadata": {},
   "outputs": [
    {
     "data": {
      "text/plain": [
       "     lwage             ed         smsa     black    \n",
       " Min.   :5.011   Min.   : 4.00   no :198   no :552  \n",
       " 1st Qu.:6.235   1st Qu.:12.00   yes:397   yes: 43  \n",
       " Median :6.534   Median :12.00                      \n",
       " Mean   :6.465   Mean   :12.85                      \n",
       " 3rd Qu.:6.753   3rd Qu.:16.00                      \n",
       " Max.   :6.906   Max.   :17.00                      "
      ]
     },
     "metadata": {},
     "output_type": "display_data"
    }
   ],
   "source": [
    "summary(swages)"
   ]
  },
  {
   "cell_type": "markdown",
   "id": "03fbf27c",
   "metadata": {},
   "source": [
    "The following R packages will be used to display the graphics."
   ]
  },
  {
   "cell_type": "code",
   "execution_count": 25,
   "id": "a078da58",
   "metadata": {
    "collapsed": true
   },
   "outputs": [
    {
     "name": "stderr",
     "output_type": "stream",
     "text": [
      "Le chargement a nécessité le package : ggplot2\n",
      "\n",
      "Le chargement a nécessité le package : tidyverse\n",
      "\n",
      "── \u001b[1mAttaching packages\u001b[22m ─────────────────────────────────────────────────────────────────────────────── tidyverse 1.3.2 ──\n",
      "\u001b[32m✔\u001b[39m \u001b[34mtibble \u001b[39m 3.1.8      \u001b[32m✔\u001b[39m \u001b[34mdplyr  \u001b[39m 1.0.10\n",
      "\u001b[32m✔\u001b[39m \u001b[34mtidyr  \u001b[39m 1.2.1      \u001b[32m✔\u001b[39m \u001b[34mstringr\u001b[39m 1.5.0 \n",
      "\u001b[32m✔\u001b[39m \u001b[34mreadr  \u001b[39m 2.1.3      \u001b[32m✔\u001b[39m \u001b[34mforcats\u001b[39m 0.5.2 \n",
      "\u001b[32m✔\u001b[39m \u001b[34mpurrr  \u001b[39m 0.3.5      \n",
      "── \u001b[1mConflicts\u001b[22m ────────────────────────────────────────────────────────────────────────────────── tidyverse_conflicts() ──\n",
      "\u001b[31m✖\u001b[39m \u001b[34mdplyr\u001b[39m::\u001b[32mbetween()\u001b[39m masks \u001b[34mplm\u001b[39m::between()\n",
      "\u001b[31m✖\u001b[39m \u001b[34mdplyr\u001b[39m::\u001b[32mfilter()\u001b[39m  masks \u001b[34mstats\u001b[39m::filter()\n",
      "\u001b[31m✖\u001b[39m \u001b[34mdplyr\u001b[39m::\u001b[32mlag()\u001b[39m     masks \u001b[34mplm\u001b[39m::lag(), \u001b[34mstats\u001b[39m::lag()\n",
      "\u001b[31m✖\u001b[39m \u001b[34mdplyr\u001b[39m::\u001b[32mlead()\u001b[39m    masks \u001b[34mplm\u001b[39m::lead()\n",
      "Le chargement a nécessité le package : Hmisc\n",
      "\n",
      "Le chargement a nécessité le package : lattice\n",
      "\n",
      "Le chargement a nécessité le package : survival\n",
      "\n",
      "Le chargement a nécessité le package : Formula\n",
      "\n",
      "\n",
      "Attachement du package : 'Hmisc'\n",
      "\n",
      "\n",
      "Les objets suivants sont masqués depuis 'package:dplyr':\n",
      "\n",
      "    src, summarize\n",
      "\n",
      "\n",
      "Les objets suivants sont masqués depuis 'package:base':\n",
      "\n",
      "    format.pval, units\n",
      "\n",
      "\n"
     ]
    }
   ],
   "source": [
    "if (!require(ggplot2)) install.packages(\"ggplot2\")\n",
    "if (!require(tidyverse)) install.packages(\"tidyverse\")\n",
    "if (!require(Hmisc)) install.packages(\"Hmisc\")\n",
    "\n",
    "library(Hmisc)\n",
    "library(tidyverse)\n",
    "library(ggplot2)\n",
    "\n",
    "options(repr.plot.width = 15, repr.plot.height =8) # adjust the size of the following graphs"
   ]
  },
  {
   "cell_type": "markdown",
   "id": "441c08d5",
   "metadata": {},
   "source": [
    "To get a first idea of whether we have group specific heteroskedasticity in your data, we can plot the dependent variable against the explanatory variables for each group.\n",
    "\n",
    "The optimal situation to fully vizualise the variance of the dependent variable is when we have one or two explanatory variables (excluding the one for which we suspect group specific heteroskedasticity). In this situation, we can make a plot in 2D or 3D to fully vizualise the wage against the explanatory variables.\n",
    "\n",
    "But here and in the vast majority of study cases, you'll have more than two explanatory variables, so you can't fully vizualise the relationship between the wage and the explanatory variables. Therefore, we are constrained to plot the dependent variable against each of the independent variables for each group.\\*\n",
    "\n",
    "\\**Note: Actually, there exists the Principal Component Analysis (PCA) to summarise the data and we are able to get some information on the relationships between each variable, but that's out of the scope of this class.*"
   ]
  },
  {
   "cell_type": "code",
   "execution_count": 26,
   "id": "b7afd5ec",
   "metadata": {},
   "outputs": [
    {
     "name": "stderr",
     "output_type": "stream",
     "text": [
      "Warning message:\n",
      "\"\u001b[1m\u001b[22mCombining variables of class <pseries> and <factor> was deprecated in ggplot2 3.4.0.\n",
      "\u001b[36mℹ\u001b[39m Please ensure your variables are compatible before plotting (location: `join_keys()`)\"\n",
      "Warning message:\n",
      "\"\u001b[1m\u001b[22mUsing `size` aesthetic for lines was deprecated in ggplot2 3.4.0.\n",
      "\u001b[36mℹ\u001b[39m Please use `linewidth` instead.\"\n"
     ]
    },
    {
     "data": {
      "image/png": "[encoded data removed]",
      "text/plain": [
       "plot without title"
      ]
     },
     "metadata": {
      "image/png": {
       "height": 480,
       "width": 900
      }
     },
     "output_type": "display_data"
    },
    {
     "data": {
      "image/png": "[encoded data removed]",
      "text/plain": [
       "plot without title"
      ]
     },
     "metadata": {
      "image/png": {
       "height": 480,
       "width": 900
      }
     },
     "output_type": "display_data"
    }
   ],
   "source": [
    "swages %>% \n",
    "  ggplot(aes(x = ed, y = lwage)) +\n",
    "  geom_point() + \n",
    "  labs(x='Education',y='ln(wage)', title='No group specific variance a priori') +\n",
    "  theme_minimal() + \n",
    "  facet_wrap(~black, labeller = label_both)\n",
    "\n",
    "\n",
    "swages %>% \n",
    "  ggplot(aes(x = smsa, y = lwage)) +\n",
    "  stat_summary(fun = \"mean\", geom = \"bar\", alpha = .5, fill=\"skyblue\") +\n",
    "  stat_summary(fun = \"mean\", geom = \"point\", colour=\"red\", alpha=.9, size=2) +\n",
    "  stat_summary(fun.data = \"mean_cl_normal\", geom = \"errorbar\", width=0.3, colour='orange', size=1.1) + \n",
    "  labs(x='Living in urban area',y='ln(wage)', title='A priori a higher variance in wage for black people compared to non-black') + \n",
    "  facet_wrap(~black, labeller = label_both)"
   ]
  },
  {
   "cell_type": "markdown",
   "id": "767a76ae",
   "metadata": {},
   "source": [
    "The first two plots regarding the relationship between the wage and the education don't advocate for heteroskedasticity between the two groups (i.e., *black* vs *not black*). However, we can suspect it from the two graphs on the living place.\n",
    "\n",
    "The next step is to get more information on the potential heteroskedasticity from the OLS estimation."
   ]
  },
  {
   "cell_type": "code",
   "execution_count": 27,
   "id": "9e4ed63c",
   "metadata": {},
   "outputs": [],
   "source": [
    "regeq <- lwage ~ ed + smsa + black\n",
    "groupols <- lm(regeq, data = swages)"
   ]
  },
  {
   "cell_type": "markdown",
   "id": "ce0f969b",
   "metadata": {},
   "source": [
    "The following scatter plots provide useful insights."
   ]
  },
  {
   "cell_type": "code",
   "execution_count": 28,
   "id": "4195606c",
   "metadata": {},
   "outputs": [
    {
     "data": {
      "image/png": "[encoded data removed]",
      "text/plain": [
       "Plot with title \"\""
      ]
     },
     "metadata": {
      "image/png": {
       "height": 480,
       "width": 900
      }
     },
     "output_type": "display_data"
    },
    {
     "data": {
      "image/png": "[encoded data removed]",
      "text/plain": [
       "Plot with title \"\""
      ]
     },
     "metadata": {
      "image/png": {
       "height": 480,
       "width": 900
      }
     },
     "output_type": "display_data"
    },
    {
     "data": {
      "image/png": "[encoded data removed]",
      "text/plain": [
       "Plot with title \"\""
      ]
     },
     "metadata": {
      "image/png": {
       "height": 480,
       "width": 900
      }
     },
     "output_type": "display_data"
    },
    {
     "data": {
      "image/png": "[encoded data removed]",
      "text/plain": [
       "Plot with title \"\""
      ]
     },
     "metadata": {
      "image/png": {
       "height": 480,
       "width": 900
      }
     },
     "output_type": "display_data"
    }
   ],
   "source": [
    "plot(groupols)"
   ]
  },
  {
   "cell_type": "markdown",
   "id": "97ee7fc9",
   "metadata": {},
   "source": [
    "Does the residuals look like a white noise? Clearly not.\n",
    "\n",
    "First, looking at the Residuals vs Fitted values, we suspect something strange. The red line is not always on zero, meaning that we have a slight issue on the definition of the equation that we defined (i.e., $ln(wage_i)= \\beta_0 + \\beta_1 ed_i + \\beta_2 smsa_i + \\beta_3 black_i + u_i.$).\n",
    "\n",
    "Second, the normality assumption of the residuals is questioned from what we see on the Q-Q plot.\n",
    "\n",
    "Third and most importantly, the third scatter plot advocates for heteroskedaticity (the spread of the residuals is increasing as the fitted values (or the independent variables) changes.\n",
    "\n",
    "Thus, ignoring the slight issue with the definition of the relationship between wage and expl. variables, we suspect heteroskedasticity. We might think that it comes from the *black* outcome. We might have $V(\\epsilon_i|black=yes)=\\sigma^2_1$ and $V(\\epsilon_i|black=no)=\\sigma^2_2$, with $\\sigma^2_1 \\neq \\sigma^2_2$.\n",
    "\n",
    "To check that, we can use both Breusch-Pagan and Goldfeld-Quandt tests."
   ]
  },
  {
   "cell_type": "code",
   "execution_count": 29,
   "id": "ddd8cb75",
   "metadata": {},
   "outputs": [
    {
     "data": {
      "text/plain": [
       "\n",
       "\tstudentized Breusch-Pagan test\n",
       "\n",
       "data:  groupols\n",
       "BP = 9.6986, df = 3, p-value = 0.02131\n"
      ]
     },
     "metadata": {},
     "output_type": "display_data"
    }
   ],
   "source": [
    "bptest(groupols) # Breusch Pagan test"
   ]
  },
  {
   "cell_type": "markdown",
   "id": "47ecaec8",
   "metadata": {},
   "source": [
    "At a $5\\%$ critical probability, the null hypothesis of the Breusch-Pagan test is rejected, most probably indicating heteroskedasticity. So we know that we have heteroskedasticity, but where does it come from ? Maybe from *black*, as we suspected before ?\n",
    "\n",
    "In order to properly use the Goldfeld-Quandt test, we need to sort the values of the *black* variable and give the breaking point when *black* changes from *no* to *yes*. The following R code gives the number of *no* and *yes* for the *black* variable."
   ]
  },
  {
   "cell_type": "code",
   "execution_count": 30,
   "id": "96e8b0e2",
   "metadata": {},
   "outputs": [
    {
     "data": {
      "text/html": [
       "<table class=\"dataframe\">\n",
       "<caption>A grouped_df: 2 × 2</caption>\n",
       "<thead>\n",
       "\t<tr><th scope=col>black</th><th scope=col>n</th></tr>\n",
       "\t<tr><th scope=col>&lt;fct&gt;</th><th scope=col>&lt;int&gt;</th></tr>\n",
       "</thead>\n",
       "<tbody>\n",
       "\t<tr><td>no </td><td>552</td></tr>\n",
       "\t<tr><td>yes</td><td> 43</td></tr>\n",
       "</tbody>\n",
       "</table>\n"
      ],
      "text/latex": [
       "A grouped\\_df: 2 × 2\n",
       "\\begin{tabular}{ll}\n",
       " black & n\\\\\n",
       " <fct> & <int>\\\\\n",
       "\\hline\n",
       "\t no  & 552\\\\\n",
       "\t yes &  43\\\\\n",
       "\\end{tabular}\n"
      ],
      "text/markdown": [
       "\n",
       "A grouped_df: 2 × 2\n",
       "\n",
       "| black &lt;fct&gt; | n &lt;int&gt; |\n",
       "|---|---|\n",
       "| no  | 552 |\n",
       "| yes |  43 |\n",
       "\n"
      ],
      "text/plain": [
       "  black n  \n",
       "1 no    552\n",
       "2 yes    43"
      ]
     },
     "metadata": {},
     "output_type": "display_data"
    }
   ],
   "source": [
    "swages %>% group_by(black) %>% count()"
   ]
  },
  {
   "cell_type": "markdown",
   "id": "46defa1c",
   "metadata": {},
   "source": [
    "Thus, after sorting the values of the *black* variable, we know that the *black* value changes at the $553^{th}$ (among $552+43)$ observation. Furthermore, we say that we want a two-sided test because we just want to know if $\\sigma^2_1 \\neq \\sigma^2_2$."
   ]
  },
  {
   "cell_type": "code",
   "execution_count": 31,
   "id": "ab2ce5ed",
   "metadata": {},
   "outputs": [
    {
     "data": {
      "text/plain": [
       "\n",
       "\tGoldfeld-Quandt test\n",
       "\n",
       "data:  regeq\n",
       "GQ = 1.392, df1 = 39, df2 = 548, p-value = 0.1222\n",
       "alternative hypothesis: variance changes from segment 1 to 2\n"
      ]
     },
     "metadata": {},
     "output_type": "display_data"
    }
   ],
   "source": [
    "gqtest(regeq, point=552/(552+43), alternative=\"two.sided\", order.by=swages$black, data=swages) # Goldfeld-Quandt test"
   ]
  },
  {
   "cell_type": "markdown",
   "id": "db70cea0",
   "metadata": {},
   "source": [
    "At a $5\\%$ critical probability, the null hypothesis of the Goldfeld-Quandt test is not rejected, most probably indicating no group specific heteroskedasticity with the *black* variable. Thus, you could stop there and just apply the FGLS for the heteroskedasticity detected by the Breusch-Pagan test and disregard the *black* variable for group specific variance.\n",
    "\n",
    "If you chosed a $15\\%$ critical probability, the null hypothesis of the Goldfeld-Quandt test is rejected, most probably indicating group specific heteroskedasticity with the *black* variable. Therefore, you could use the FGLS estimator using the following code."
   ]
  },
  {
   "cell_type": "code",
   "execution_count": 32,
   "id": "3e60d64c",
   "metadata": {},
   "outputs": [
    {
     "data": {
      "text/plain": [
       "\n",
       "Call:\n",
       "lm(formula = regeq, data = swages, weights = weight)\n",
       "\n",
       "Weighted Residuals:\n",
       "    Min      1Q  Median      3Q     Max \n",
       "-4.0178 -0.5572  0.1453  0.7069  2.2910 \n",
       "\n",
       "Coefficients:\n",
       "             Estimate Std. Error t value Pr(>|t|)    \n",
       "(Intercept)  5.787240   0.061709  93.783  < 2e-16 ***\n",
       "ed           0.044803   0.004757   9.419  < 2e-16 ***\n",
       "smsayes      0.181745   0.028028   6.484 1.88e-10 ***\n",
       "blackyes    -0.260143   0.057537  -4.521 7.43e-06 ***\n",
       "---\n",
       "Signif. codes:  0 '***' 0.001 '**' 0.01 '*' 0.05 '.' 0.1 ' ' 1\n",
       "\n",
       "Residual standard error: 0.9996 on 591 degrees of freedom\n",
       "Multiple R-squared:  0.2435,\tAdjusted R-squared:  0.2396 \n",
       "F-statistic:  63.4 on 3 and 591 DF,  p-value: < 2.2e-16\n"
      ]
     },
     "metadata": {},
     "output_type": "display_data"
    }
   ],
   "source": [
    "regeq2 <- lwage ~ ed + smsa\n",
    "\n",
    "regnotblack <- lm(regeq2, data = swages, subset = (black == 'no'))\n",
    "signotblack <- summary(regnotblack)$sigma\n",
    "regblack <- lm(regeq2, data = swages, subset = (black == 'yes')) \n",
    "sigblack <- summary(regblack)$sigma\n",
    "swages$weight <- rep(0, nrow(swages))\n",
    "\n",
    "for (i in 1:nrow(swages))\n",
    "{\n",
    "  if (swages$black[i] == 'no'){swages$weight[i] <- 1 / signotblack^2}\n",
    "  else{swages$weight[i] <- 1 / sigblack^2}\n",
    "}\n",
    "\n",
    "fgls <- lm(regeq, weights = weight, data = swages)\n",
    "summary(fgls)"
   ]
  }
 ],
 "metadata": {
  "kernelspec": {
   "display_name": "R",
   "language": "R",
   "name": "ir"
  },
  "language_info": {
   "codemirror_mode": "r",
   "file_extension": ".r",
   "mimetype": "text/x-r-source",
   "name": "R",
   "pygments_lexer": "r",
   "version": "4.2.2"
  }
 },
 "nbformat": 4,
 "nbformat_minor": 5
}
