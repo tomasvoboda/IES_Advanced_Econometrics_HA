{
 "cells": [
  {
   "cell_type": "markdown",
   "metadata": {},
   "source": [
    "# Problem 2"
   ]
  },
  {
   "cell_type": "code",
   "execution_count": 55,
   "metadata": {
    "vscode": {
     "languageId": "r"
    }
   },
   "outputs": [
    {
     "name": "stderr",
     "output_type": "stream",
     "text": [
      "Registered S3 method overwritten by 'xts':\n",
      "  method     from\n",
      "  as.zoo.xts zoo \n",
      "Registered S3 method overwritten by 'quantmod':\n",
      "  method            from\n",
      "  as.zoo.data.frame zoo \n"
     ]
    }
   ],
   "source": [
    "library(plm)\n",
    "library(lmtest)\n",
    "library(tseries)"
   ]
  },
  {
   "cell_type": "code",
   "execution_count": 7,
   "metadata": {
    "vscode": {
     "languageId": "r"
    }
   },
   "outputs": [],
   "source": [
    "data(\"Wages\", package = \"plm\")\n",
    "Wag <- pdata.frame(Wages, index=595)"
   ]
  },
  {
   "cell_type": "code",
   "execution_count": 17,
   "metadata": {
    "vscode": {
     "languageId": "r"
    }
   },
   "outputs": [
    {
     "data": {
      "text/plain": [
       "Balanced Panel: n = 595, T = 7, N = 4165"
      ]
     },
     "metadata": {},
     "output_type": "display_data"
    },
    {
     "data": {
      "text/html": [
       "<table>\n",
       "<thead><tr><th></th><th scope=col>NA_Sum</th></tr></thead>\n",
       "<tbody>\n",
       "\t<tr><th scope=row>exp</th><td>0</td></tr>\n",
       "\t<tr><th scope=row>wks</th><td>0</td></tr>\n",
       "\t<tr><th scope=row>bluecol</th><td>0</td></tr>\n",
       "\t<tr><th scope=row>ind</th><td>0</td></tr>\n",
       "\t<tr><th scope=row>south</th><td>0</td></tr>\n",
       "\t<tr><th scope=row>smsa</th><td>0</td></tr>\n",
       "\t<tr><th scope=row>married</th><td>0</td></tr>\n",
       "\t<tr><th scope=row>sex</th><td>0</td></tr>\n",
       "\t<tr><th scope=row>union</th><td>0</td></tr>\n",
       "\t<tr><th scope=row>ed</th><td>0</td></tr>\n",
       "\t<tr><th scope=row>black</th><td>0</td></tr>\n",
       "\t<tr><th scope=row>lwage</th><td>0</td></tr>\n",
       "\t<tr><th scope=row>id</th><td>0</td></tr>\n",
       "\t<tr><th scope=row>time</th><td>0</td></tr>\n",
       "</tbody>\n",
       "</table>\n"
      ],
      "text/latex": [
       "\\begin{tabular}{r|l}\n",
       "  & NA\\_Sum\\\\\n",
       "\\hline\n",
       "\texp & 0\\\\\n",
       "\twks & 0\\\\\n",
       "\tbluecol & 0\\\\\n",
       "\tind & 0\\\\\n",
       "\tsouth & 0\\\\\n",
       "\tsmsa & 0\\\\\n",
       "\tmarried & 0\\\\\n",
       "\tsex & 0\\\\\n",
       "\tunion & 0\\\\\n",
       "\ted & 0\\\\\n",
       "\tblack & 0\\\\\n",
       "\tlwage & 0\\\\\n",
       "\tid & 0\\\\\n",
       "\ttime & 0\\\\\n",
       "\\end{tabular}\n"
      ],
      "text/markdown": [
       "\n",
       "| <!--/--> | NA_Sum |\n",
       "|---|---|\n",
       "| exp | 0 |\n",
       "| wks | 0 |\n",
       "| bluecol | 0 |\n",
       "| ind | 0 |\n",
       "| south | 0 |\n",
       "| smsa | 0 |\n",
       "| married | 0 |\n",
       "| sex | 0 |\n",
       "| union | 0 |\n",
       "| ed | 0 |\n",
       "| black | 0 |\n",
       "| lwage | 0 |\n",
       "| id | 0 |\n",
       "| time | 0 |\n",
       "\n"
      ],
      "text/plain": [
       "        NA_Sum\n",
       "exp     0     \n",
       "wks     0     \n",
       "bluecol 0     \n",
       "ind     0     \n",
       "south   0     \n",
       "smsa    0     \n",
       "married 0     \n",
       "sex     0     \n",
       "union   0     \n",
       "ed      0     \n",
       "black   0     \n",
       "lwage   0     \n",
       "id      0     \n",
       "time    0     "
      ]
     },
     "metadata": {},
     "output_type": "display_data"
    },
    {
     "data": {
      "text/html": [
       "<table>\n",
       "<thead><tr><th></th><th scope=col>exp</th><th scope=col>wks</th><th scope=col>bluecol</th><th scope=col>ind</th><th scope=col>south</th><th scope=col>smsa</th><th scope=col>married</th><th scope=col>sex</th><th scope=col>union</th><th scope=col>ed</th><th scope=col>black</th><th scope=col>lwage</th><th scope=col>id</th><th scope=col>time</th></tr></thead>\n",
       "<tbody>\n",
       "\t<tr><th scope=row>1-1</th><td>3      </td><td>32     </td><td>no     </td><td>0      </td><td>yes    </td><td>no     </td><td>yes    </td><td>male   </td><td>no     </td><td>9      </td><td>no     </td><td>5.56068</td><td>1      </td><td>1      </td></tr>\n",
       "\t<tr><th scope=row>1-2</th><td>4      </td><td>43     </td><td>no     </td><td>0      </td><td>yes    </td><td>no     </td><td>yes    </td><td>male   </td><td>no     </td><td>9      </td><td>no     </td><td>5.72031</td><td>1      </td><td>2      </td></tr>\n",
       "\t<tr><th scope=row>1-3</th><td>5      </td><td>40     </td><td>no     </td><td>0      </td><td>yes    </td><td>no     </td><td>yes    </td><td>male   </td><td>no     </td><td>9      </td><td>no     </td><td>5.99645</td><td>1      </td><td>3      </td></tr>\n",
       "\t<tr><th scope=row>1-4</th><td>6      </td><td>39     </td><td>no     </td><td>0      </td><td>yes    </td><td>no     </td><td>yes    </td><td>male   </td><td>no     </td><td>9      </td><td>no     </td><td>5.99645</td><td>1      </td><td>4      </td></tr>\n",
       "\t<tr><th scope=row>1-5</th><td>7      </td><td>42     </td><td>no     </td><td>1      </td><td>yes    </td><td>no     </td><td>yes    </td><td>male   </td><td>no     </td><td>9      </td><td>no     </td><td>6.06146</td><td>1      </td><td>5      </td></tr>\n",
       "\t<tr><th scope=row>1-6</th><td>8      </td><td>35     </td><td>no     </td><td>1      </td><td>yes    </td><td>no     </td><td>yes    </td><td>male   </td><td>no     </td><td>9      </td><td>no     </td><td>6.17379</td><td>1      </td><td>6      </td></tr>\n",
       "</tbody>\n",
       "</table>\n"
      ],
      "text/latex": [
       "\\begin{tabular}{r|llllllllllllll}\n",
       "  & exp & wks & bluecol & ind & south & smsa & married & sex & union & ed & black & lwage & id & time\\\\\n",
       "\\hline\n",
       "\t1-1 & 3       & 32      & no      & 0       & yes     & no      & yes     & male    & no      & 9       & no      & 5.56068 & 1       & 1      \\\\\n",
       "\t1-2 & 4       & 43      & no      & 0       & yes     & no      & yes     & male    & no      & 9       & no      & 5.72031 & 1       & 2      \\\\\n",
       "\t1-3 & 5       & 40      & no      & 0       & yes     & no      & yes     & male    & no      & 9       & no      & 5.99645 & 1       & 3      \\\\\n",
       "\t1-4 & 6       & 39      & no      & 0       & yes     & no      & yes     & male    & no      & 9       & no      & 5.99645 & 1       & 4      \\\\\n",
       "\t1-5 & 7       & 42      & no      & 1       & yes     & no      & yes     & male    & no      & 9       & no      & 6.06146 & 1       & 5      \\\\\n",
       "\t1-6 & 8       & 35      & no      & 1       & yes     & no      & yes     & male    & no      & 9       & no      & 6.17379 & 1       & 6      \\\\\n",
       "\\end{tabular}\n"
      ],
      "text/markdown": [
       "\n",
       "| <!--/--> | exp | wks | bluecol | ind | south | smsa | married | sex | union | ed | black | lwage | id | time |\n",
       "|---|---|---|---|---|---|---|---|---|---|---|---|---|---|---|\n",
       "| 1-1 | 3       | 32      | no      | 0       | yes     | no      | yes     | male    | no      | 9       | no      | 5.56068 | 1       | 1       |\n",
       "| 1-2 | 4       | 43      | no      | 0       | yes     | no      | yes     | male    | no      | 9       | no      | 5.72031 | 1       | 2       |\n",
       "| 1-3 | 5       | 40      | no      | 0       | yes     | no      | yes     | male    | no      | 9       | no      | 5.99645 | 1       | 3       |\n",
       "| 1-4 | 6       | 39      | no      | 0       | yes     | no      | yes     | male    | no      | 9       | no      | 5.99645 | 1       | 4       |\n",
       "| 1-5 | 7       | 42      | no      | 1       | yes     | no      | yes     | male    | no      | 9       | no      | 6.06146 | 1       | 5       |\n",
       "| 1-6 | 8       | 35      | no      | 1       | yes     | no      | yes     | male    | no      | 9       | no      | 6.17379 | 1       | 6       |\n",
       "\n"
      ],
      "text/plain": [
       "    exp wks bluecol ind south smsa married sex  union ed black lwage   id time\n",
       "1-1 3   32  no      0   yes   no   yes     male no    9  no    5.56068 1  1   \n",
       "1-2 4   43  no      0   yes   no   yes     male no    9  no    5.72031 1  2   \n",
       "1-3 5   40  no      0   yes   no   yes     male no    9  no    5.99645 1  3   \n",
       "1-4 6   39  no      0   yes   no   yes     male no    9  no    5.99645 1  4   \n",
       "1-5 7   42  no      1   yes   no   yes     male no    9  no    6.06146 1  5   \n",
       "1-6 8   35  no      1   yes   no   yes     male no    9  no    6.17379 1  6   "
      ]
     },
     "metadata": {},
     "output_type": "display_data"
    }
   ],
   "source": [
    "pdim(Wag)\n",
    "data.frame(NA_Sum = colSums(is.na(Wag)))\n",
    "head(Wag)\n"
   ]
  },
  {
   "cell_type": "markdown",
   "metadata": {},
   "source": [
    "We begin with data exploration. The panel data set is balanced with 595 individuals over 7 years and no NAs - no need for handling the data structure."
   ]
  },
  {
   "cell_type": "markdown",
   "metadata": {},
   "source": [
    "#### (a) Pooled OLS"
   ]
  },
  {
   "cell_type": "code",
   "execution_count": 53,
   "metadata": {
    "vscode": {
     "languageId": "r"
    }
   },
   "outputs": [
    {
     "data": {
      "text/plain": [
       "Pooling Model\n",
       "\n",
       "Call:\n",
       "plm(formula = lwage ~ ed + exp + I(exp^2) + sex + south + smsa + \n",
       "    black, data = Wag, model = \"pooling\")\n",
       "\n",
       "Balanced Panel: n = 595, T = 7, N = 4165\n",
       "\n",
       "Residuals:\n",
       "      Min.    1st Qu.     Median    3rd Qu.       Max. \n",
       "-2.2121430 -0.2328048 -0.0021319  0.2340662  2.0421768 \n",
       "\n",
       "Coefficients:\n",
       "               Estimate  Std. Error  t-value  Pr(>|t|)    \n",
       "(Intercept)  5.3293e+00  3.6005e-02 148.0148 < 2.2e-16 ***\n",
       "ed           6.5286e-02  2.0955e-03  31.1553 < 2.2e-16 ***\n",
       "exp          4.2775e-02  2.1752e-03  19.6642 < 2.2e-16 ***\n",
       "I(exp^2)    -7.2209e-04  4.7965e-05 -15.0544 < 2.2e-16 ***\n",
       "sexfemale   -4.2420e-01  1.7978e-02 -23.5953 < 2.2e-16 ***\n",
       "southyes    -6.9485e-02  1.2436e-02  -5.5874 2.452e-08 ***\n",
       "smsayes      1.7062e-01  1.2094e-02  14.1077 < 2.2e-16 ***\n",
       "blackyes    -1.8012e-01  2.2220e-02  -8.1063 6.802e-16 ***\n",
       "---\n",
       "Signif. codes:  0 '***' 0.001 '**' 0.01 '*' 0.05 '.' 0.1 ' ' 1\n",
       "\n",
       "Total Sum of Squares:    886.9\n",
       "Residual Sum of Squares: 524.21\n",
       "R-Squared:      0.40894\n",
       "Adj. R-Squared: 0.40795\n",
       "F-statistic: 410.883 on 7 and 4157 DF, p-value: < 2.22e-16"
      ]
     },
     "metadata": {},
     "output_type": "display_data"
    }
   ],
   "source": [
    "pols <- plm(lwage ~ ed + exp + I(exp^2) + sex + south + smsa + black, data=Wag,\n",
    "            model = \"pooling\")\n",
    "summary(pols)"
   ]
  },
  {
   "cell_type": "code",
   "execution_count": 28,
   "metadata": {
    "vscode": {
     "languageId": "r"
    }
   },
   "outputs": [
    {
     "data": {
      "text/plain": [
       "\n",
       "t test of coefficients:\n",
       "\n",
       "              Estimate Std. Error  t value  Pr(>|t|)    \n",
       "(Intercept)  5.5841998  0.0741598  75.2995 < 2.2e-16 ***\n",
       "exp          0.0109804  0.0012781   8.5910 < 2.2e-16 ***\n",
       "sexfemale   -0.4282097  0.0338276 -12.6586 < 2.2e-16 ***\n",
       "ed           0.0659869  0.0047952  13.7611 < 2.2e-16 ***\n",
       "southyes    -0.0686695  0.0279471  -2.4571 0.0140457 *  \n",
       "smsayes      0.1650199  0.0256736   6.4276 1.442e-10 ***\n",
       "blackyes    -0.1828994  0.0497430  -3.6769 0.0002391 ***\n",
       "---\n",
       "Signif. codes:  0 '***' 0.001 '**' 0.01 '*' 0.05 '.' 0.1 ' ' 1\n"
      ]
     },
     "metadata": {},
     "output_type": "display_data"
    }
   ],
   "source": [
    "coeftest(pols, vcov = vcovHC(pols, type = \"HC0\", cluster = 'group'))"
   ]
  },
  {
   "cell_type": "markdown",
   "metadata": {},
   "source": [
    "We continue with model estimation based on provided equation describing how wage of an individual is affected by his or her working experience, years of education, urban areas residence, sex, south residence, and race. We incorporated all of the variables in a given form (log, square)."
   ]
  },
  {
   "cell_type": "markdown",
   "metadata": {},
   "source": [
    "The first estimated model is poold OLS, which is usef for cases when the individual effect $z_i$ is observed. In other words, the individuals are observed over time but posses no individual-specific characteristics. Assuming everyone has also non-observable determinants of his or her wage, e.g. ability, we do not believe this model turns out to be accurate. Finally, we expect the heterogeneity in our residuals so that we also decided to use robus standard errors as a prevention - formal test is going to be performed later."
   ]
  },
  {
   "cell_type": "markdown",
   "metadata": {},
   "source": [
    "Our results suggest that there is a statistically significant effect of education on individual's wage - 1 year of education is predicted to increase individuals wage by 6.59% in average. Althouth, the adjusted $R^2$ reaching only 40.8% suggest we could also further specify our model.   "
   ]
  },
  {
   "cell_type": "markdown",
   "metadata": {},
   "source": [
    "#### (b) Fixed effects"
   ]
  },
  {
   "cell_type": "code",
   "execution_count": 51,
   "metadata": {
    "vscode": {
     "languageId": "r"
    }
   },
   "outputs": [
    {
     "data": {
      "text/plain": [
       "Oneway (individual) effect Within Model\n",
       "\n",
       "Call:\n",
       "plm(formula = lwage ~ ed + exp + I(exp^2) + sex + south + smsa + \n",
       "    black, data = Wag, model = \"within\")\n",
       "\n",
       "Balanced Panel: n = 595, T = 7, N = 4165\n",
       "\n",
       "Residuals:\n",
       "      Min.    1st Qu.     Median    3rd Qu.       Max. \n",
       "-1.8120080 -0.0504228  0.0039655  0.0607171  1.9430322 \n",
       "\n",
       "Coefficients:\n",
       "            Estimate  Std. Error t-value  Pr(>|t|)    \n",
       "exp       1.1380e-01  2.4655e-03 46.1575 < 2.2e-16 ***\n",
       "I(exp^2) -4.2839e-04  5.4499e-05 -7.8605 5.026e-15 ***\n",
       "southyes  5.3877e-03  3.4186e-02  0.1576   0.87478    \n",
       "smsayes  -4.3365e-02  1.9399e-02 -2.2354   0.02546 *  \n",
       "---\n",
       "Signif. codes:  0 '***' 0.001 '**' 0.01 '*' 0.05 '.' 0.1 ' ' 1\n",
       "\n",
       "Total Sum of Squares:    240.65\n",
       "Residual Sum of Squares: 82.562\n",
       "R-Squared:      0.65692\n",
       "Adj. R-Squared: 0.59939\n",
       "F-statistic: 1707.05 on 4 and 3566 DF, p-value: < 2.22e-16"
      ]
     },
     "metadata": {},
     "output_type": "display_data"
    }
   ],
   "source": [
    "fem_w <- plm(lwage ~ ed + exp + I(exp^2) + sex + south + smsa + black, \n",
    "                data=Wag, model = \"within\")\n",
    "summary(fem_w)"
   ]
  },
  {
   "cell_type": "code",
   "execution_count": 61,
   "metadata": {
    "vscode": {
     "languageId": "r"
    }
   },
   "outputs": [
    {
     "name": "stdout",
     "output_type": "stream",
     "text": [
      "data frame with 0 columns and 595 rows\n"
     ]
    }
   ],
   "source": [
    "individuals <- unique(Wag$id)\n",
    "ed_changes <- numeric(length(individuals))\n",
    "\n",
    "for (i in seq_along(individuals)) {\n",
    "  subset_data <- subset(Wag, id == individuals[i])\n",
    "  ed_changes[i] <- length(unique(subset_data$ed)) > 1\n",
    "}\n",
    "\n",
    "result_table <- data.frame(individual_id = individuals, ed_changes = ed_changes)\n",
    "print(result_table[, ed_changes != 0])"
   ]
  },
  {
   "cell_type": "markdown",
   "metadata": {},
   "source": [
    "The second model used for an estimation is Fixed effect model. This method assumes the individual-specific effect to be present and unobserved, however, correlated with regressors. This method attempts to averege the individual effect out by taking an average of variables over time."
   ]
  },
  {
   "cell_type": "markdown",
   "metadata": {},
   "source": [
    "The issue of thie metod is, hoever, that cannot be used for estimating a time-invarient variable. Since we did not obtain a coefficient for 'ed' at all, we believe it remains constant for every individual over time and is thus averaged out by this algorithm. The reason for that can be that individuals in our data set are already working adults whose level of education is logically the same over this couple of years. "
   ]
  },
  {
   "cell_type": "markdown",
   "metadata": {},
   "source": [
    "#### (c) Random effects"
   ]
  },
  {
   "cell_type": "code",
   "execution_count": 50,
   "metadata": {
    "vscode": {
     "languageId": "r"
    }
   },
   "outputs": [
    {
     "data": {
      "text/plain": [
       "Oneway (individual) effect Random Effect Model \n",
       "   (Swamy-Arora's transformation)\n",
       "\n",
       "Call:\n",
       "plm(formula = lwage ~ ed + exp + I(exp^2) + sex + south + smsa + \n",
       "    black, data = Wag, model = \"random\")\n",
       "\n",
       "Balanced Panel: n = 595, T = 7, N = 4165\n",
       "\n",
       "Effects:\n",
       "                  var std.dev share\n",
       "idiosyncratic 0.02315 0.15216 0.239\n",
       "individual    0.07386 0.27176 0.761\n",
       "theta: 0.793\n",
       "\n",
       "Residuals:\n",
       "      Min.    1st Qu.     Median    3rd Qu.       Max. \n",
       "-2.0620658 -0.1147357  0.0083296  0.1202484  2.0863357 \n",
       "\n",
       "Coefficients:\n",
       "               Estimate  Std. Error  z-value  Pr(>|z|)    \n",
       "(Intercept)  4.16329227  0.08165324  50.9875 < 2.2e-16 ***\n",
       "ed           0.10348971  0.00550150  18.8112 < 2.2e-16 ***\n",
       "exp          0.08377489  0.00284146  29.4830 < 2.2e-16 ***\n",
       "I(exp^2)    -0.00081571  0.00006273 -13.0033 < 2.2e-16 ***\n",
       "sexfemale   -0.27605996  0.04819024  -5.7285 1.013e-08 ***\n",
       "southyes    -0.01686609  0.02677860  -0.6298 0.5288027    \n",
       "smsayes     -0.01421970  0.02006775  -0.7086 0.4785822    \n",
       "blackyes    -0.20309171  0.05940168  -3.4190 0.0006286 ***\n",
       "---\n",
       "Signif. codes:  0 '***' 0.001 '**' 0.01 '*' 0.05 '.' 0.1 ' ' 1\n",
       "\n",
       "Total Sum of Squares:    268.35\n",
       "Residual Sum of Squares: 163.2\n",
       "R-Squared:      0.39185\n",
       "Adj. R-Squared: 0.39083\n",
       "Chisq: 2678.52 on 7 DF, p-value: < 2.22e-16"
      ]
     },
     "metadata": {},
     "output_type": "display_data"
    }
   ],
   "source": [
    "rem <- plm(lwage ~ ed + exp + I(exp^2) + sex + south + smsa + black, \n",
    "            data=Wag, model = \"random\")\n",
    "summary(rem)"
   ]
  },
  {
   "cell_type": "markdown",
   "metadata": {},
   "source": [
    "Thirdly, we used Random effects method of estimation. This is the best option for cases when the individual-specific heterogeneous feature is unobserved and uncorrelated with regressors. The variables are time-demeaned only partially and what, thefore, alows us to estimate also time-invariant variable capturing education.  "
   ]
  },
  {
   "cell_type": "markdown",
   "metadata": {},
   "source": [
    "Our results show that there is a statistically significant effect of education on individual's wage - every additional level of edducation seems to increase wage by 10.35% in average. Although the adjusted $R^2$ being only 39.1% does not indicate a strong-specified model."
   ]
  },
  {
   "cell_type": "markdown",
   "metadata": {},
   "source": [
    "#### (e) Testing"
   ]
  },
  {
   "cell_type": "markdown",
   "metadata": {},
   "source": [
    "To compare our models, we perform several test."
   ]
  },
  {
   "cell_type": "code",
   "execution_count": 38,
   "metadata": {
    "vscode": {
     "languageId": "r"
    }
   },
   "outputs": [
    {
     "data": {
      "text/plain": [
       "\n",
       "\tF test for individual effects\n",
       "\n",
       "data:  lwage ~ exp + exp^2 + sex + ed + south + smsa + black\n",
       "F = 33.687, df1 = 591, df2 = 3567, p-value < 2.2e-16\n",
       "alternative hypothesis: significant effects\n"
      ]
     },
     "metadata": {},
     "output_type": "display_data"
    }
   ],
   "source": [
    "pFtest(fem_w, pols)"
   ]
  },
  {
   "cell_type": "markdown",
   "metadata": {},
   "source": [
    "The F test aims to uncover presence of individual-specific fixed effects. Since the null hypothesis was rejected due to the low p-value, we can assume that there are significant effects in our data as expected. It can be characteristics of individuals such as ability or networking skills. It means that we did not treat this effects in the Pooled OLS model, therefore, obtained inconsistent and biased results due to endogeneity. "
   ]
  },
  {
   "cell_type": "code",
   "execution_count": 62,
   "metadata": {
    "vscode": {
     "languageId": "r"
    }
   },
   "outputs": [
    {
     "data": {
      "text/plain": [
       "\n",
       "\tLagrange Multiplier Test - (Breusch-Pagan) for balanced panels\n",
       "\n",
       "data:  lwage ~ ed + exp + I(exp^2) + sex + south + smsa + black\n",
       "chisq = 3789.7, df = 1, p-value < 2.2e-16\n",
       "alternative hypothesis: significant effects\n"
      ]
     },
     "metadata": {},
     "output_type": "display_data"
    },
    {
     "data": {
      "text/plain": [
       "\n",
       "\tLagrange Multiplier Test - time effects (Breusch-Pagan) for balanced\n",
       "\tpanels\n",
       "\n",
       "data:  lwage ~ ed + exp + I(exp^2) + sex + south + smsa + black\n",
       "chisq = 60406, df = 1, p-value < 2.2e-16\n",
       "alternative hypothesis: significant effects\n"
      ]
     },
     "metadata": {},
     "output_type": "display_data"
    },
    {
     "data": {
      "text/plain": [
       "\n",
       "\tLagrange Multiplier Test - two-ways effects (Breusch-Pagan) for\n",
       "\tbalanced panels\n",
       "\n",
       "data:  lwage ~ ed + exp + I(exp^2) + sex + south + smsa + black\n",
       "chisq = 64196, df = 2, p-value < 2.2e-16\n",
       "alternative hypothesis: significant effects\n"
      ]
     },
     "metadata": {},
     "output_type": "display_data"
    }
   ],
   "source": [
    "plmtest(pols, type = c(\"bp\"), effect = \"individual\")\n",
    "plmtest(pols, type = c(\"bp\"), effect = \"time\")\n",
    "plmtest(pols, type = c(\"bp\"), effect = \"twoway\")"
   ]
  },
  {
   "cell_type": "markdown",
   "metadata": {},
   "source": [
    "Secondly, we used also the Breuschen-Pagan LM test to detect the individual-specific effects in the residuals that allows us to look for individual, time or both effects. We rejected all 3 null hypotheses due to low p-values. This suggests that there is an individual-specific heteroskedasticity and the Pooled OLS estimates biased results. This result only confirmes the previous test.   "
   ]
  },
  {
   "cell_type": "code",
   "execution_count": 63,
   "metadata": {
    "vscode": {
     "languageId": "r"
    }
   },
   "outputs": [
    {
     "data": {
      "text/plain": [
       "\n",
       "\tHausman Test\n",
       "\n",
       "data:  lwage ~ ed + exp + I(exp^2) + sex + south + smsa + black\n",
       "chisq = 5347.6, df = 4, p-value < 2.2e-16\n",
       "alternative hypothesis: one model is inconsistent\n"
      ]
     },
     "metadata": {},
     "output_type": "display_data"
    }
   ],
   "source": [
    "phtest(fem_w, rem)"
   ]
  },
  {
   "cell_type": "markdown",
   "metadata": {},
   "source": [
    "Even though we cannot use the Fixed effects model due to estimating effect of a time-invarient variable, we still run the Hausman test to see the difference between Fixed and Random effect methods. This test allows us to compare these models since it detects the exogeneity of effects under the null hypothesis. Rejecting the null with the low p-value tells us that one of these models is inconsistent. Therefore, we can use only Fixed effects model to obtain consistent result while the Random effect being inconsistent.   "
   ]
  },
  {
   "cell_type": "markdown",
   "metadata": {},
   "source": [
    "To conclude, even though we found a significant effect of education on individual's wage, this results turned out to be inconsistent since both Pooled OLS and Random effects are not eligible to use. The best method of estimation would be the Fixed effects, however, we cannot use it since the education is constant over time for all our samples. Therefore, we have no idea how ability affects wage from this data and would need to restructure our model. One example is to try also different method of estimation, such as first differencing, or LSDV."
   ]
  },
  {
   "cell_type": "markdown",
   "metadata": {},
   "source": [
    "#### (f) OLS assumptions"
   ]
  },
  {
   "cell_type": "markdown",
   "metadata": {},
   "source": [
    "Finally, we test also for other standard OLS assumptions for panel data to see what else should be treated for consistent or unbiased model estimation. We'll performe the tests using Random effects model, others analogically."
   ]
  },
  {
   "cell_type": "code",
   "execution_count": 64,
   "metadata": {
    "vscode": {
     "languageId": "r"
    }
   },
   "outputs": [
    {
     "name": "stderr",
     "output_type": "stream",
     "text": [
      "Warning message in adf.test(Wag$lwage, k = 4):\n",
      "\"p-value smaller than printed p-value\""
     ]
    },
    {
     "data": {
      "text/plain": [
       "\n",
       "\tAugmented Dickey-Fuller Test\n",
       "\n",
       "data:  Wag$lwage\n",
       "Dickey-Fuller = -20.853, Lag order = 4, p-value = 0.01\n",
       "alternative hypothesis: stationary\n"
      ]
     },
     "metadata": {},
     "output_type": "display_data"
    }
   ],
   "source": [
    "adf.test(Wag$lwage, k = 4)"
   ]
  },
  {
   "cell_type": "markdown",
   "metadata": {},
   "source": [
    "There seems to be no unit roots in our dependent variable that would distort our results - we can assume stationarity."
   ]
  },
  {
   "cell_type": "code",
   "execution_count": 65,
   "metadata": {
    "vscode": {
     "languageId": "r"
    }
   },
   "outputs": [
    {
     "data": {
      "text/plain": [
       "\n",
       "\tBreusch-Godfrey/Wooldridge test for serial correlation in panel models\n",
       "\n",
       "data:  lwage ~ ed + exp + I(exp^2) + sex + south + smsa + black\n",
       "chisq = 791.46, df = 7, p-value < 2.2e-16\n",
       "alternative hypothesis: serial correlation in idiosyncratic errors\n"
      ]
     },
     "metadata": {},
     "output_type": "display_data"
    }
   ],
   "source": [
    "pbgtest(rem)"
   ]
  },
  {
   "cell_type": "markdown",
   "metadata": {},
   "source": [
    "Using the Breusch-Godfrey test, we found strong autocorrelation among the errors that needs to be treated for consistent estimates."
   ]
  },
  {
   "cell_type": "code",
   "execution_count": 67,
   "metadata": {
    "vscode": {
     "languageId": "r"
    }
   },
   "outputs": [
    {
     "data": {
      "text/plain": [
       "\n",
       "\tstudentized Breusch-Pagan test\n",
       "\n",
       "data:  rem\n",
       "BP = 53.179, df = 7, p-value = 3.418e-09\n"
      ]
     },
     "metadata": {},
     "output_type": "display_data"
    }
   ],
   "source": [
    "bptest(rem)"
   ]
  },
  {
   "cell_type": "markdown",
   "metadata": {},
   "source": [
    "Since we found also the heteroskedasticity in our data due to rejecting the null hypothesis of Breusch-Pagan test, we correctly used the robust standard errors above to keep our standard errors consistent."
   ]
  },
  {
   "cell_type": "markdown",
   "metadata": {},
   "source": [
    "In conclusion, our results are not consistent at all but we now where the issue is :)"
   ]
  }
 ],
 "metadata": {
  "kernelspec": {
   "display_name": "R",
   "language": "R",
   "name": "ir"
  },
  "language_info": {
   "codemirror_mode": "r",
   "file_extension": ".r",
   "mimetype": "text/x-r-source",
   "name": "R",
   "pygments_lexer": "r",
   "version": "3.6.1"
  }
 },
 "nbformat": 4,
 "nbformat_minor": 2
}
